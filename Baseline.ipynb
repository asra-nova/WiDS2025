{
 "cells": [
  {
   "cell_type": "code",
   "execution_count": 44,
   "metadata": {},
   "outputs": [],
   "source": [
    "import os\n",
    "import numpy as np\n",
    "import pandas as pd\n",
    "import scipy\n",
    "import umap\n",
    "import seaborn as sns\n",
    "import matplotlib.pyplot as plt\n",
    "from gc import collect\n",
    "from matplotlib.ticker import MaxNLocator\n",
    "from sklearn.svm import SVC\n",
    "from sklearn.decomposition import PCA\n",
    "from sklearn.manifold import TSNE\n",
    "from sklearn.multioutput import MultiOutputClassifier\n",
    "from sklearn.ensemble import ExtraTreesRegressor, RandomForestClassifier\n",
    "from sklearn.linear_model import LogisticRegression, RidgeClassifier, RidgeClassifierCV\n",
    "from sklearn.neighbors import KNeighborsClassifier\n",
    "from sklearn.feature_selection import RFECV, SequentialFeatureSelector, SelectKBest\n",
    "from sklearn.impute import SimpleImputer\n",
    "from sklearn.kernel_approximation import Nystroem\n",
    "from sklearn.compose import ColumnTransformer\n",
    "from sklearn.pipeline import make_pipeline, Pipeline\n",
    "from sklearn.base import clone\n",
    "from sklearn.metrics import f1_score, roc_auc_score, roc_curve, make_scorer, r2_score\n",
    "from sklearn.model_selection import StratifiedKFold, cross_val_score, train_test_split\n",
    "from sklearn.preprocessing import StandardScaler, FunctionTransformer, PolynomialFeatures, MinMaxScaler"
   ]
  },
  {
   "cell_type": "code",
   "execution_count": 45,
   "metadata": {},
   "outputs": [],
   "source": [
    "def get_feats(mode='train'):\n",
    "   \n",
    "    feats=pd.read_excel(f\"./widsdatathon2025/{mode}/{mode}_QUANTITATIVE_METADATA.xlsx\")\n",
    "    \n",
    "    if mode=='TRAIN':\n",
    "        cate=pd.read_excel(f\"./widsdatathon2025/{mode}/{mode}_CATEGORICAL_METADATA.xlsx\")\n",
    "    else:\n",
    "        cate=pd.read_excel(f\"./widsdatathon2025/{mode}/{mode}_CATEGORICAL.xlsx\")\n",
    "    feats=feats.merge(cate,on='participant_id',how='left')\n",
    "    \n",
    "    func=pd.read_csv(f\"./widsdatathon2025/{mode}/{mode}_FUNCTIONAL_CONNECTOME_MATRICES.csv\")\n",
    "    feats=feats.merge(func,on='participant_id',how='left')\n",
    "\n",
    "    if mode=='TRAIN':\n",
    "        solution=pd.read_excel(\"./widsdatathon2025/TRAIN/TRAINING_SOLUTIONS.xlsx\")\n",
    "        feats=feats.merge(solution,on='participant_id',how='left')\n",
    "        \n",
    "    return feats\n",
    "    \n",
    "train=get_feats(mode='TRAIN')\n",
    "test=get_feats(mode='TEST')\n",
    "sub = pd.read_excel('./widsdatathon2025/SAMPLE_SUBMISSION.xlsx')\n",
    "y = pd.read_excel(f\"./widsdatathon2025/TRAIN/TRAINING_SOLUTIONS.xlsx\")"
   ]
  },
  {
   "cell_type": "code",
   "execution_count": 46,
   "metadata": {},
   "outputs": [
    {
     "data": {
      "text/plain": [
       "(19927,)"
      ]
     },
     "execution_count": 46,
     "metadata": {},
     "output_type": "execute_result"
    }
   ],
   "source": [
    "train.set_index('participant_id',inplace=True)\n",
    "test.set_index('participant_id',inplace=True)\n",
    "targets = ['ADHD_Outcome','Sex_F']\n",
    "features = test.columns\n",
    "features.shape"
   ]
  },
  {
   "cell_type": "code",
   "execution_count": 47,
   "metadata": {},
   "outputs": [],
   "source": [
    "def check_for_nulls(df):\n",
    "  if df.isnull().any().any():\n",
    "    print(\"The DataFrame contains null values.\")\n",
    "  else:\n",
    "    print(\"The DataFrame does not contain null values.\")"
   ]
  },
  {
   "cell_type": "code",
   "execution_count": 48,
   "metadata": {},
   "outputs": [
    {
     "name": "stdout",
     "output_type": "stream",
     "text": [
      "The DataFrame contains null values.\n",
      "The DataFrame contains null values.\n",
      "Train: (1213, 19929), Test: (304, 19927)\n"
     ]
    }
   ],
   "source": [
    "check_for_nulls(train)\n",
    "check_for_nulls(test)\n",
    "print(f'Train: {train.shape}, Test: {test.shape}')"
   ]
  },
  {
   "cell_type": "code",
   "execution_count": 58,
   "metadata": {},
   "outputs": [
    {
     "data": {
      "image/png": "[encoded data removed]",
      "text/plain": [
       "<Figure size 500x300 with 2 Axes>"
      ]
     },
     "metadata": {},
     "output_type": "display_data"
    }
   ],
   "source": [
    "fig, axs = plt.subplots(1,2, figsize=(5,3))\n",
    "\n",
    "for col, ax in zip(y.drop('participant_id',axis=1), axs):    \n",
    "    counts = y[col].value_counts()\n",
    "    ax.pie(counts, labels=counts.index, \n",
    "           autopct='%1.2f%%', \n",
    "           startangle=90, colors = [\"lightblue\", \"pink\"])\n",
    "    ax.set_title(f'{col}')"
   ]
  },
  {
   "cell_type": "code",
   "execution_count": null,
   "metadata": {},
   "outputs": [],
   "source": []
  },
  {
   "cell_type": "code",
   "execution_count": null,
   "metadata": {},
   "outputs": [],
   "source": []
  }
 ],
 "metadata": {
  "kernelspec": {
   "display_name": "Python 3",
   "language": "python",
   "name": "python3"
  },
  "language_info": {
   "codemirror_mode": {
    "name": "ipython",
    "version": 3
   },
   "file_extension": ".py",
   "mimetype": "text/x-python",
   "name": "python",
   "nbconvert_exporter": "python",
   "pygments_lexer": "ipython3",
   "version": "3.9.6"
  }
 },
 "nbformat": 4,
 "nbformat_minor": 2
}
