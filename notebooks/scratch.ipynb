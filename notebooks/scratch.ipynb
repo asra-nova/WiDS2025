{
 "cells": [
  {
   "cell_type": "code",
   "execution_count": 1,
   "metadata": {},
   "outputs": [],
   "source": [
    "from pprint import pprint\n",
    "import pandas as pd"
   ]
  },
  {
   "cell_type": "code",
   "execution_count": 2,
   "metadata": {},
   "outputs": [],
   "source": [
    "df = pd.read_csv('/Users/reza/School/2025/1-Spring/Advanced ML/Project/Data/preprocessed/test/aux.csv')"
   ]
  },
  {
   "cell_type": "code",
   "execution_count": 3,
   "metadata": {},
   "outputs": [
    {
     "name": "stdout",
     "output_type": "stream",
     "text": [
      "['APQ_P_APQ_P_CP',\n",
      " 'APQ_P_APQ_P_ID',\n",
      " 'APQ_P_APQ_P_INV',\n",
      " 'APQ_P_APQ_P_OPD',\n",
      " 'APQ_P_APQ_P_PM',\n",
      " 'APQ_P_APQ_P_PP',\n",
      " 'Barratt_Barratt_P1_Edu_12.0',\n",
      " 'Barratt_Barratt_P1_Edu_15.0',\n",
      " 'Barratt_Barratt_P1_Edu_18.0',\n",
      " 'Barratt_Barratt_P1_Edu_21.0',\n",
      " 'Barratt_Barratt_P1_Edu_3.0',\n",
      " 'Barratt_Barratt_P1_Edu_6.0',\n",
      " 'Barratt_Barratt_P1_Edu_9.0',\n",
      " 'Barratt_Barratt_P1_Occ_10.0',\n",
      " 'Barratt_Barratt_P1_Occ_15.0',\n",
      " 'Barratt_Barratt_P1_Occ_20.0',\n",
      " 'Barratt_Barratt_P1_Occ_25.0',\n",
      " 'Barratt_Barratt_P1_Occ_30.0',\n",
      " 'Barratt_Barratt_P1_Occ_35.0',\n",
      " 'Barratt_Barratt_P1_Occ_40.0',\n",
      " 'Barratt_Barratt_P1_Occ_45.0',\n",
      " 'Barratt_Barratt_P1_Occ_5.0',\n",
      " 'Barratt_Barratt_P2_Edu_12.0',\n",
      " 'Barratt_Barratt_P2_Edu_15.0',\n",
      " 'Barratt_Barratt_P2_Edu_18.0',\n",
      " 'Barratt_Barratt_P2_Edu_21.0',\n",
      " 'Barratt_Barratt_P2_Edu_3.0',\n",
      " 'Barratt_Barratt_P2_Edu_6.0',\n",
      " 'Barratt_Barratt_P2_Edu_9.0',\n",
      " 'Barratt_Barratt_P2_Occ_10.0',\n",
      " 'Barratt_Barratt_P2_Occ_15.0',\n",
      " 'Barratt_Barratt_P2_Occ_20.0',\n",
      " 'Barratt_Barratt_P2_Occ_25.0',\n",
      " 'Barratt_Barratt_P2_Occ_30.0',\n",
      " 'Barratt_Barratt_P2_Occ_35.0',\n",
      " 'Barratt_Barratt_P2_Occ_40.0',\n",
      " 'Barratt_Barratt_P2_Occ_45.0',\n",
      " 'Barratt_Barratt_P2_Occ_5.0',\n",
      " 'Basic_Demos_Enroll_Year_2016',\n",
      " 'Basic_Demos_Enroll_Year_2017',\n",
      " 'Basic_Demos_Enroll_Year_2018',\n",
      " 'Basic_Demos_Enroll_Year_2019',\n",
      " 'Basic_Demos_Enroll_Year_2020',\n",
      " 'Basic_Demos_Enroll_Year_2021',\n",
      " 'Basic_Demos_Enroll_Year_2022',\n",
      " 'Basic_Demos_Enroll_Year_2023',\n",
      " 'Basic_Demos_Study_Site_2',\n",
      " 'Basic_Demos_Study_Site_3',\n",
      " 'Basic_Demos_Study_Site_4',\n",
      " 'Basic_Demos_Study_Site_5',\n",
      " 'ColorVision_CV_Score',\n",
      " 'EHQ_EHQ_Total',\n",
      " 'MRI_Track_Age_at_Scan',\n",
      " 'MRI_Track_Scan_Location_1',\n",
      " 'MRI_Track_Scan_Location_2',\n",
      " 'MRI_Track_Scan_Location_3',\n",
      " 'MRI_Track_Scan_Location_4',\n",
      " 'PreInt_Demos_Fam_Child_Ethnicity_1.0',\n",
      " 'PreInt_Demos_Fam_Child_Ethnicity_2.0',\n",
      " 'PreInt_Demos_Fam_Child_Ethnicity_3.0',\n",
      " 'PreInt_Demos_Fam_Child_Race_1.0',\n",
      " 'PreInt_Demos_Fam_Child_Race_10.0',\n",
      " 'PreInt_Demos_Fam_Child_Race_11.0',\n",
      " 'PreInt_Demos_Fam_Child_Race_2.0',\n",
      " 'PreInt_Demos_Fam_Child_Race_3.0',\n",
      " 'PreInt_Demos_Fam_Child_Race_4.0',\n",
      " 'PreInt_Demos_Fam_Child_Race_7.0',\n",
      " 'PreInt_Demos_Fam_Child_Race_8.0',\n",
      " 'PreInt_Demos_Fam_Child_Race_9.0',\n",
      " 'SDQ_SDQ_Conduct_Problems',\n",
      " 'SDQ_SDQ_Difficulties_Total',\n",
      " 'SDQ_SDQ_Emotional_Problems',\n",
      " 'SDQ_SDQ_Externalizing',\n",
      " 'SDQ_SDQ_Generating_Impact',\n",
      " 'SDQ_SDQ_Hyperactivity',\n",
      " 'SDQ_SDQ_Internalizing',\n",
      " 'SDQ_SDQ_Peer_Problems',\n",
      " 'SDQ_SDQ_Prosocial',\n",
      " 'participant_id']\n"
     ]
    },
    {
     "data": {
      "text/plain": [
       "(None, 79)"
      ]
     },
     "execution_count": 3,
     "metadata": {},
     "output_type": "execute_result"
    }
   ],
   "source": [
    "pprint(sorted(list(df.columns))), len(df.columns)"
   ]
  },
  {
   "cell_type": "code",
   "execution_count": 4,
   "metadata": {},
   "outputs": [],
   "source": [
    "df = pd.read_csv(\n",
    "    \"/Users/reza/School/2025/1-Spring/Advanced ML/Project/Data/preprocessed_selected_features/test/aux.csv\"\n",
    ")"
   ]
  },
  {
   "cell_type": "code",
   "execution_count": 5,
   "metadata": {},
   "outputs": [
    {
     "name": "stdout",
     "output_type": "stream",
     "text": [
      "['APQ_P_APQ_P_CP',\n",
      " 'APQ_P_APQ_P_ID',\n",
      " 'APQ_P_APQ_P_INV',\n",
      " 'APQ_P_APQ_P_OPD',\n",
      " 'APQ_P_APQ_P_PP',\n",
      " 'Barratt_Barratt_P1_Edu_12.0',\n",
      " 'Barratt_Barratt_P1_Edu_15.0',\n",
      " 'Barratt_Barratt_P1_Edu_18.0',\n",
      " 'Barratt_Barratt_P1_Edu_21.0',\n",
      " 'Barratt_Barratt_P1_Edu_6.0',\n",
      " 'Barratt_Barratt_P1_Edu_9.0',\n",
      " 'Barratt_Barratt_P1_Occ_10.0',\n",
      " 'Barratt_Barratt_P1_Occ_20.0',\n",
      " 'Barratt_Barratt_P1_Occ_25.0',\n",
      " 'Barratt_Barratt_P1_Occ_30.0',\n",
      " 'Barratt_Barratt_P1_Occ_35.0',\n",
      " 'Barratt_Barratt_P1_Occ_40.0',\n",
      " 'Barratt_Barratt_P1_Occ_45.0',\n",
      " 'Barratt_Barratt_P1_Occ_5.0',\n",
      " 'Barratt_Barratt_P2_Edu_12.0',\n",
      " 'Barratt_Barratt_P2_Edu_15.0',\n",
      " 'Barratt_Barratt_P2_Edu_18.0',\n",
      " 'Barratt_Barratt_P2_Edu_21.0',\n",
      " 'Barratt_Barratt_P2_Edu_3.0',\n",
      " 'Barratt_Barratt_P2_Edu_9.0',\n",
      " 'Barratt_Barratt_P2_Occ_10.0',\n",
      " 'Barratt_Barratt_P2_Occ_15.0',\n",
      " 'Barratt_Barratt_P2_Occ_20.0',\n",
      " 'Barratt_Barratt_P2_Occ_25.0',\n",
      " 'Barratt_Barratt_P2_Occ_30.0',\n",
      " 'Barratt_Barratt_P2_Occ_35.0',\n",
      " 'Barratt_Barratt_P2_Occ_40.0',\n",
      " 'Barratt_Barratt_P2_Occ_45.0',\n",
      " 'Barratt_Barratt_P2_Occ_5.0',\n",
      " 'Basic_Demos_Enroll_Year_2016',\n",
      " 'Basic_Demos_Enroll_Year_2017',\n",
      " 'Basic_Demos_Enroll_Year_2018',\n",
      " 'Basic_Demos_Enroll_Year_2019',\n",
      " 'Basic_Demos_Study_Site_2',\n",
      " 'Basic_Demos_Study_Site_3',\n",
      " 'Basic_Demos_Study_Site_4',\n",
      " 'ColorVision_CV_Score',\n",
      " 'MRI_Track_Age_at_Scan',\n",
      " 'MRI_Track_Scan_Location_1',\n",
      " 'MRI_Track_Scan_Location_2',\n",
      " 'MRI_Track_Scan_Location_3',\n",
      " 'MRI_Track_Scan_Location_4',\n",
      " 'PreInt_Demos_Fam_Child_Ethnicity_1.0',\n",
      " 'PreInt_Demos_Fam_Child_Ethnicity_2.0',\n",
      " 'PreInt_Demos_Fam_Child_Ethnicity_3.0',\n",
      " 'PreInt_Demos_Fam_Child_Race_1.0',\n",
      " 'PreInt_Demos_Fam_Child_Race_10.0',\n",
      " 'PreInt_Demos_Fam_Child_Race_2.0',\n",
      " 'PreInt_Demos_Fam_Child_Race_3.0',\n",
      " 'PreInt_Demos_Fam_Child_Race_8.0',\n",
      " 'PreInt_Demos_Fam_Child_Race_9.0',\n",
      " 'SDQ_SDQ_Conduct_Problems',\n",
      " 'SDQ_SDQ_Emotional_Problems',\n",
      " 'SDQ_SDQ_Externalizing',\n",
      " 'SDQ_SDQ_Generating_Impact',\n",
      " 'SDQ_SDQ_Hyperactivity',\n",
      " 'SDQ_SDQ_Peer_Problems',\n",
      " 'SDQ_SDQ_Prosocial',\n",
      " 'participant_id']\n"
     ]
    },
    {
     "data": {
      "text/plain": [
       "(None, 64)"
      ]
     },
     "execution_count": 5,
     "metadata": {},
     "output_type": "execute_result"
    }
   ],
   "source": [
    "pprint(sorted(list(df.columns))), len(df.columns)"
   ]
  },
  {
   "cell_type": "code",
   "execution_count": null,
   "metadata": {},
   "outputs": [],
   "source": []
  }
 ],
 "metadata": {
  "kernelspec": {
   "display_name": ".venv",
   "language": "python",
   "name": "python3"
  },
  "language_info": {
   "codemirror_mode": {
    "name": "ipython",
    "version": 3
   },
   "file_extension": ".py",
   "mimetype": "text/x-python",
   "name": "python",
   "nbconvert_exporter": "python",
   "pygments_lexer": "ipython3",
   "version": "3.9.6"
  }
 },
 "nbformat": 4,
 "nbformat_minor": 2
}
