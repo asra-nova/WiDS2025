{
  "cells": [
    {
      "cell_type": "code",
      "execution_count": 1,
      "metadata": {
        "id": "uaiaGqkyeq9u"
      },
      "outputs": [],
      "source": [
        "import torch\n",
        "import numpy as np\n",
        "import pandas as pd\n",
        "import torch.nn as nn\n",
        "import torch.optim as optim\n",
        "from torchsummary import summary\n",
        "from pprint import pprint\n",
        "import json\n",
        "import random\n",
        "from sklearn.model_selection import KFold\n",
        "from sklearn.metrics import f1_score\n",
        "from tqdm import trange, tqdm"
      ]
    },
    {
      "cell_type": "code",
      "execution_count": 2,
      "metadata": {
        "colab": {
          "base_uri": "https://localhost:8080/"
        },
        "id": "s0J9AFG-ex6q",
        "outputId": "21ed3ed6-0e4a-456f-efd2-f166c360ebd1"
      },
      "outputs": [
        {
          "name": "stdout",
          "output_type": "stream",
          "text": [
            "Mounted at /content/drive\n"
          ]
        }
      ],
      "source": [
        "from google.colab import drive\n",
        "drive.mount('/content/drive')"
      ]
    },
    {
      "cell_type": "code",
      "execution_count": 3,
      "metadata": {
        "colab": {
          "base_uri": "https://localhost:8080/"
        },
        "id": "umOrVHEhfCRm",
        "outputId": "d5093957-afcd-4a1d-879c-c0f8b13eb1a4"
      },
      "outputs": [
        {
          "name": "stdout",
          "output_type": "stream",
          "text": [
            "Archive:  /content/drive/MyDrive/School/2025 Spring/Advanced ML/AML Project/Data/new/preprocessed_selected_features.zip\n",
            "   creating: preprocessed_selected_features/\n",
            "   creating: preprocessed_selected_features/test/\n",
            "   creating: preprocessed_selected_features/train/\n",
            "  inflating: preprocessed_selected_features/test/connectome_matrices.csv  \n",
            "  inflating: preprocessed_selected_features/test/aux.csv  \n",
            "  inflating: preprocessed_selected_features/train/labels.csv  \n",
            "  inflating: preprocessed_selected_features/train/connectome_matrices.csv  \n",
            "  inflating: preprocessed_selected_features/train/aux.csv  \n"
          ]
        }
      ],
      "source": [
        "!unzip '/content/drive/MyDrive/School/2025 Spring/Advanced ML/AML Project/Data/new/preprocessed_selected_features.zip'"
      ]
    },
    {
      "cell_type": "code",
      "execution_count": 4,
      "metadata": {
        "id": "pRcktU5RfXtS"
      },
      "outputs": [],
      "source": [
        "device = torch.device('cuda' if torch.cuda.is_available() else 'cpu')"
      ]
    },
    {
      "cell_type": "code",
      "execution_count": 5,
      "metadata": {
        "id": "B5FPGWFxeq9w"
      },
      "outputs": [],
      "source": [
        "TRAIN_X_PATH = 'preprocessed_selected_features/train/connectome_matrices.csv'\n",
        "TRAIN_Y_PATH = 'preprocessed_selected_features/train/labels.csv'"
      ]
    },
    {
      "cell_type": "code",
      "execution_count": 6,
      "metadata": {
        "id": "OHfxOh5zeq9x"
      },
      "outputs": [],
      "source": [
        "train_X_df = pd.read_csv(TRAIN_X_PATH)\n",
        "train_y_df = pd.read_csv(TRAIN_Y_PATH)\n",
        "train_X_df.set_index('participant_id', inplace=True)\n",
        "train_y_df.set_index('participant_id', inplace=True)\n",
        "train_y_df = train_y_df.reindex(train_X_df.index)"
      ]
    },
    {
      "cell_type": "code",
      "execution_count": 7,
      "metadata": {
        "colab": {
          "base_uri": "https://localhost:8080/",
          "height": 284
        },
        "id": "EjcbTab9eq9x",
        "outputId": "80a1a8e6-76d7-4d45-c845-75382ebe76d2"
      },
      "outputs": [
        {
          "data": {
            "application/vnd.google.colaboratory.intrinsic+json": {
              "type": "dataframe",
              "variable_name": "train_X_df"
            },
            "text/html": [
              "\n",
              "  <div id=\"df-77d203b9-6fa6-4028-889d-920252347c65\" class=\"colab-df-container\">\n",
              "    <div>\n",
              "<style scoped>\n",
              "    .dataframe tbody tr th:only-of-type {\n",
              "        vertical-align: middle;\n",
              "    }\n",
              "\n",
              "    .dataframe tbody tr th {\n",
              "        vertical-align: top;\n",
              "    }\n",
              "\n",
              "    .dataframe thead th {\n",
              "        text-align: right;\n",
              "    }\n",
              "</style>\n",
              "<table border=\"1\" class=\"dataframe\">\n",
              "  <thead>\n",
              "    <tr style=\"text-align: right;\">\n",
              "      <th></th>\n",
              "      <th>0throw_1thcolumn</th>\n",
              "      <th>0throw_2thcolumn</th>\n",
              "      <th>0throw_3thcolumn</th>\n",
              "      <th>0throw_4thcolumn</th>\n",
              "      <th>0throw_5thcolumn</th>\n",
              "      <th>0throw_6thcolumn</th>\n",
              "      <th>0throw_7thcolumn</th>\n",
              "      <th>0throw_8thcolumn</th>\n",
              "      <th>0throw_9thcolumn</th>\n",
              "      <th>0throw_10thcolumn</th>\n",
              "      <th>...</th>\n",
              "      <th>195throw_196thcolumn</th>\n",
              "      <th>195throw_197thcolumn</th>\n",
              "      <th>195throw_198thcolumn</th>\n",
              "      <th>195throw_199thcolumn</th>\n",
              "      <th>196throw_197thcolumn</th>\n",
              "      <th>196throw_198thcolumn</th>\n",
              "      <th>196throw_199thcolumn</th>\n",
              "      <th>197throw_198thcolumn</th>\n",
              "      <th>197throw_199thcolumn</th>\n",
              "      <th>198throw_199thcolumn</th>\n",
              "    </tr>\n",
              "    <tr>\n",
              "      <th>participant_id</th>\n",
              "      <th></th>\n",
              "      <th></th>\n",
              "      <th></th>\n",
              "      <th></th>\n",
              "      <th></th>\n",
              "      <th></th>\n",
              "      <th></th>\n",
              "      <th></th>\n",
              "      <th></th>\n",
              "      <th></th>\n",
              "      <th></th>\n",
              "      <th></th>\n",
              "      <th></th>\n",
              "      <th></th>\n",
              "      <th></th>\n",
              "      <th></th>\n",
              "      <th></th>\n",
              "      <th></th>\n",
              "      <th></th>\n",
              "      <th></th>\n",
              "      <th></th>\n",
              "    </tr>\n",
              "  </thead>\n",
              "  <tbody>\n",
              "    <tr>\n",
              "      <th>70z8Q2xdTXM3</th>\n",
              "      <td>0.270399</td>\n",
              "      <td>0.580746</td>\n",
              "      <td>0.485892</td>\n",
              "      <td>0.064059</td>\n",
              "      <td>0.617299</td>\n",
              "      <td>0.337467</td>\n",
              "      <td>0.550230</td>\n",
              "      <td>-0.087434</td>\n",
              "      <td>0.579197</td>\n",
              "      <td>0.535364</td>\n",
              "      <td>...</td>\n",
              "      <td>0.305246</td>\n",
              "      <td>0.583610</td>\n",
              "      <td>0.540900</td>\n",
              "      <td>0.228036</td>\n",
              "      <td>0.343643</td>\n",
              "      <td>0.485184</td>\n",
              "      <td>0.019701</td>\n",
              "      <td>0.614717</td>\n",
              "      <td>0.524420</td>\n",
              "      <td>0.404290</td>\n",
              "    </tr>\n",
              "    <tr>\n",
              "      <th>WHWymJu6zNZi</th>\n",
              "      <td>0.745668</td>\n",
              "      <td>0.635297</td>\n",
              "      <td>0.560712</td>\n",
              "      <td>0.541223</td>\n",
              "      <td>0.439375</td>\n",
              "      <td>0.473556</td>\n",
              "      <td>0.129684</td>\n",
              "      <td>-0.095509</td>\n",
              "      <td>0.132499</td>\n",
              "      <td>0.314387</td>\n",
              "      <td>...</td>\n",
              "      <td>0.295154</td>\n",
              "      <td>-0.021363</td>\n",
              "      <td>0.000563</td>\n",
              "      <td>-0.119118</td>\n",
              "      <td>0.511165</td>\n",
              "      <td>0.396962</td>\n",
              "      <td>0.201877</td>\n",
              "      <td>0.664817</td>\n",
              "      <td>0.612853</td>\n",
              "      <td>0.557002</td>\n",
              "    </tr>\n",
              "    <tr>\n",
              "      <th>4PAQp1M6EyAo</th>\n",
              "      <td>-0.141711</td>\n",
              "      <td>0.503933</td>\n",
              "      <td>0.294476</td>\n",
              "      <td>0.697041</td>\n",
              "      <td>0.840358</td>\n",
              "      <td>0.476623</td>\n",
              "      <td>0.690517</td>\n",
              "      <td>0.215647</td>\n",
              "      <td>0.573338</td>\n",
              "      <td>0.430980</td>\n",
              "      <td>...</td>\n",
              "      <td>0.464666</td>\n",
              "      <td>-0.031043</td>\n",
              "      <td>-0.048386</td>\n",
              "      <td>0.092712</td>\n",
              "      <td>0.464166</td>\n",
              "      <td>0.337855</td>\n",
              "      <td>0.471782</td>\n",
              "      <td>0.504960</td>\n",
              "      <td>0.566427</td>\n",
              "      <td>0.691008</td>\n",
              "    </tr>\n",
              "    <tr>\n",
              "      <th>obEacy4Of68I</th>\n",
              "      <td>0.242208</td>\n",
              "      <td>0.829234</td>\n",
              "      <td>0.744090</td>\n",
              "      <td>0.627094</td>\n",
              "      <td>0.756269</td>\n",
              "      <td>0.699015</td>\n",
              "      <td>0.565864</td>\n",
              "      <td>0.463884</td>\n",
              "      <td>0.584879</td>\n",
              "      <td>0.295275</td>\n",
              "      <td>...</td>\n",
              "      <td>0.140506</td>\n",
              "      <td>-0.261833</td>\n",
              "      <td>0.269811</td>\n",
              "      <td>-0.023052</td>\n",
              "      <td>0.490709</td>\n",
              "      <td>0.684443</td>\n",
              "      <td>0.260870</td>\n",
              "      <td>0.373375</td>\n",
              "      <td>0.490076</td>\n",
              "      <td>0.617905</td>\n",
              "    </tr>\n",
              "    <tr>\n",
              "      <th>s7WzzDcmDOhF</th>\n",
              "      <td>0.275725</td>\n",
              "      <td>0.675102</td>\n",
              "      <td>0.702433</td>\n",
              "      <td>0.613503</td>\n",
              "      <td>0.804479</td>\n",
              "      <td>0.637771</td>\n",
              "      <td>0.286740</td>\n",
              "      <td>0.404671</td>\n",
              "      <td>0.331130</td>\n",
              "      <td>0.377236</td>\n",
              "      <td>...</td>\n",
              "      <td>-0.223803</td>\n",
              "      <td>0.010372</td>\n",
              "      <td>-0.154615</td>\n",
              "      <td>-0.602806</td>\n",
              "      <td>0.555110</td>\n",
              "      <td>-0.248578</td>\n",
              "      <td>0.254210</td>\n",
              "      <td>0.061103</td>\n",
              "      <td>0.132521</td>\n",
              "      <td>0.119855</td>\n",
              "    </tr>\n",
              "  </tbody>\n",
              "</table>\n",
              "<p>5 rows × 19900 columns</p>\n",
              "</div>\n",
              "    <div class=\"colab-df-buttons\">\n",
              "\n",
              "  <div class=\"colab-df-container\">\n",
              "    <button class=\"colab-df-convert\" onclick=\"convertToInteractive('df-77d203b9-6fa6-4028-889d-920252347c65')\"\n",
              "            title=\"Convert this dataframe to an interactive table.\"\n",
              "            style=\"display:none;\">\n",
              "\n",
              "  <svg xmlns=\"http://www.w3.org/2000/svg\" height=\"24px\" viewBox=\"0 -960 960 960\">\n",
              "    <path d=\"M120-120v-720h720v720H120Zm60-500h600v-160H180v160Zm220 220h160v-160H400v160Zm0 220h160v-160H400v160ZM180-400h160v-160H180v160Zm440 0h160v-160H620v160ZM180-180h160v-160H180v160Zm440 0h160v-160H620v160Z\"/>\n",
              "  </svg>\n",
              "    </button>\n",
              "\n",
              "  <style>\n",
              "    .colab-df-container {\n",
              "      display:flex;\n",
              "      gap: 12px;\n",
              "    }\n",
              "\n",
              "    .colab-df-convert {\n",
              "      background-color: #E8F0FE;\n",
              "      border: none;\n",
              "      border-radius: 50%;\n",
              "      cursor: pointer;\n",
              "      display: none;\n",
              "      fill: #1967D2;\n",
              "      height: 32px;\n",
              "      padding: 0 0 0 0;\n",
              "      width: 32px;\n",
              "    }\n",
              "\n",
              "    .colab-df-convert:hover {\n",
              "      background-color: #E2EBFA;\n",
              "      box-shadow: 0px 1px 2px rgba(60, 64, 67, 0.3), 0px 1px 3px 1px rgba(60, 64, 67, 0.15);\n",
              "      fill: #174EA6;\n",
              "    }\n",
              "\n",
              "    .colab-df-buttons div {\n",
              "      margin-bottom: 4px;\n",
              "    }\n",
              "\n",
              "    [theme=dark] .colab-df-convert {\n",
              "      background-color: #3B4455;\n",
              "      fill: #D2E3FC;\n",
              "    }\n",
              "\n",
              "    [theme=dark] .colab-df-convert:hover {\n",
              "      background-color: #434B5C;\n",
              "      box-shadow: 0px 1px 3px 1px rgba(0, 0, 0, 0.15);\n",
              "      filter: drop-shadow(0px 1px 2px rgba(0, 0, 0, 0.3));\n",
              "      fill: #FFFFFF;\n",
              "    }\n",
              "  </style>\n",
              "\n",
              "    <script>\n",
              "      const buttonEl =\n",
              "        document.querySelector('#df-77d203b9-6fa6-4028-889d-920252347c65 button.colab-df-convert');\n",
              "      buttonEl.style.display =\n",
              "        google.colab.kernel.accessAllowed ? 'block' : 'none';\n",
              "\n",
              "      async function convertToInteractive(key) {\n",
              "        const element = document.querySelector('#df-77d203b9-6fa6-4028-889d-920252347c65');\n",
              "        const dataTable =\n",
              "          await google.colab.kernel.invokeFunction('convertToInteractive',\n",
              "                                                    [key], {});\n",
              "        if (!dataTable) return;\n",
              "\n",
              "        const docLinkHtml = 'Like what you see? Visit the ' +\n",
              "          '<a target=\"_blank\" href=https://colab.research.google.com/notebooks/data_table.ipynb>data table notebook</a>'\n",
              "          + ' to learn more about interactive tables.';\n",
              "        element.innerHTML = '';\n",
              "        dataTable['output_type'] = 'display_data';\n",
              "        await google.colab.output.renderOutput(dataTable, element);\n",
              "        const docLink = document.createElement('div');\n",
              "        docLink.innerHTML = docLinkHtml;\n",
              "        element.appendChild(docLink);\n",
              "      }\n",
              "    </script>\n",
              "  </div>\n",
              "\n",
              "\n",
              "<div id=\"df-b4061ea4-5667-4588-bfac-19289d3cfc0b\">\n",
              "  <button class=\"colab-df-quickchart\" onclick=\"quickchart('df-b4061ea4-5667-4588-bfac-19289d3cfc0b')\"\n",
              "            title=\"Suggest charts\"\n",
              "            style=\"display:none;\">\n",
              "\n",
              "<svg xmlns=\"http://www.w3.org/2000/svg\" height=\"24px\"viewBox=\"0 0 24 24\"\n",
              "     width=\"24px\">\n",
              "    <g>\n",
              "        <path d=\"M19 3H5c-1.1 0-2 .9-2 2v14c0 1.1.9 2 2 2h14c1.1 0 2-.9 2-2V5c0-1.1-.9-2-2-2zM9 17H7v-7h2v7zm4 0h-2V7h2v10zm4 0h-2v-4h2v4z\"/>\n",
              "    </g>\n",
              "</svg>\n",
              "  </button>\n",
              "\n",
              "<style>\n",
              "  .colab-df-quickchart {\n",
              "      --bg-color: #E8F0FE;\n",
              "      --fill-color: #1967D2;\n",
              "      --hover-bg-color: #E2EBFA;\n",
              "      --hover-fill-color: #174EA6;\n",
              "      --disabled-fill-color: #AAA;\n",
              "      --disabled-bg-color: #DDD;\n",
              "  }\n",
              "\n",
              "  [theme=dark] .colab-df-quickchart {\n",
              "      --bg-color: #3B4455;\n",
              "      --fill-color: #D2E3FC;\n",
              "      --hover-bg-color: #434B5C;\n",
              "      --hover-fill-color: #FFFFFF;\n",
              "      --disabled-bg-color: #3B4455;\n",
              "      --disabled-fill-color: #666;\n",
              "  }\n",
              "\n",
              "  .colab-df-quickchart {\n",
              "    background-color: var(--bg-color);\n",
              "    border: none;\n",
              "    border-radius: 50%;\n",
              "    cursor: pointer;\n",
              "    display: none;\n",
              "    fill: var(--fill-color);\n",
              "    height: 32px;\n",
              "    padding: 0;\n",
              "    width: 32px;\n",
              "  }\n",
              "\n",
              "  .colab-df-quickchart:hover {\n",
              "    background-color: var(--hover-bg-color);\n",
              "    box-shadow: 0 1px 2px rgba(60, 64, 67, 0.3), 0 1px 3px 1px rgba(60, 64, 67, 0.15);\n",
              "    fill: var(--button-hover-fill-color);\n",
              "  }\n",
              "\n",
              "  .colab-df-quickchart-complete:disabled,\n",
              "  .colab-df-quickchart-complete:disabled:hover {\n",
              "    background-color: var(--disabled-bg-color);\n",
              "    fill: var(--disabled-fill-color);\n",
              "    box-shadow: none;\n",
              "  }\n",
              "\n",
              "  .colab-df-spinner {\n",
              "    border: 2px solid var(--fill-color);\n",
              "    border-color: transparent;\n",
              "    border-bottom-color: var(--fill-color);\n",
              "    animation:\n",
              "      spin 1s steps(1) infinite;\n",
              "  }\n",
              "\n",
              "  @keyframes spin {\n",
              "    0% {\n",
              "      border-color: transparent;\n",
              "      border-bottom-color: var(--fill-color);\n",
              "      border-left-color: var(--fill-color);\n",
              "    }\n",
              "    20% {\n",
              "      border-color: transparent;\n",
              "      border-left-color: var(--fill-color);\n",
              "      border-top-color: var(--fill-color);\n",
              "    }\n",
              "    30% {\n",
              "      border-color: transparent;\n",
              "      border-left-color: var(--fill-color);\n",
              "      border-top-color: var(--fill-color);\n",
              "      border-right-color: var(--fill-color);\n",
              "    }\n",
              "    40% {\n",
              "      border-color: transparent;\n",
              "      border-right-color: var(--fill-color);\n",
              "      border-top-color: var(--fill-color);\n",
              "    }\n",
              "    60% {\n",
              "      border-color: transparent;\n",
              "      border-right-color: var(--fill-color);\n",
              "    }\n",
              "    80% {\n",
              "      border-color: transparent;\n",
              "      border-right-color: var(--fill-color);\n",
              "      border-bottom-color: var(--fill-color);\n",
              "    }\n",
              "    90% {\n",
              "      border-color: transparent;\n",
              "      border-bottom-color: var(--fill-color);\n",
              "    }\n",
              "  }\n",
              "</style>\n",
              "\n",
              "  <script>\n",
              "    async function quickchart(key) {\n",
              "      const quickchartButtonEl =\n",
              "        document.querySelector('#' + key + ' button');\n",
              "      quickchartButtonEl.disabled = true;  // To prevent multiple clicks.\n",
              "      quickchartButtonEl.classList.add('colab-df-spinner');\n",
              "      try {\n",
              "        const charts = await google.colab.kernel.invokeFunction(\n",
              "            'suggestCharts', [key], {});\n",
              "      } catch (error) {\n",
              "        console.error('Error during call to suggestCharts:', error);\n",
              "      }\n",
              "      quickchartButtonEl.classList.remove('colab-df-spinner');\n",
              "      quickchartButtonEl.classList.add('colab-df-quickchart-complete');\n",
              "    }\n",
              "    (() => {\n",
              "      let quickchartButtonEl =\n",
              "        document.querySelector('#df-b4061ea4-5667-4588-bfac-19289d3cfc0b button');\n",
              "      quickchartButtonEl.style.display =\n",
              "        google.colab.kernel.accessAllowed ? 'block' : 'none';\n",
              "    })();\n",
              "  </script>\n",
              "</div>\n",
              "\n",
              "    </div>\n",
              "  </div>\n"
            ],
            "text/plain": [
              "                0throw_1thcolumn  0throw_2thcolumn  0throw_3thcolumn  \\\n",
              "participant_id                                                         \n",
              "70z8Q2xdTXM3            0.270399          0.580746          0.485892   \n",
              "WHWymJu6zNZi            0.745668          0.635297          0.560712   \n",
              "4PAQp1M6EyAo           -0.141711          0.503933          0.294476   \n",
              "obEacy4Of68I            0.242208          0.829234          0.744090   \n",
              "s7WzzDcmDOhF            0.275725          0.675102          0.702433   \n",
              "\n",
              "                0throw_4thcolumn  0throw_5thcolumn  0throw_6thcolumn  \\\n",
              "participant_id                                                         \n",
              "70z8Q2xdTXM3            0.064059          0.617299          0.337467   \n",
              "WHWymJu6zNZi            0.541223          0.439375          0.473556   \n",
              "4PAQp1M6EyAo            0.697041          0.840358          0.476623   \n",
              "obEacy4Of68I            0.627094          0.756269          0.699015   \n",
              "s7WzzDcmDOhF            0.613503          0.804479          0.637771   \n",
              "\n",
              "                0throw_7thcolumn  0throw_8thcolumn  0throw_9thcolumn  \\\n",
              "participant_id                                                         \n",
              "70z8Q2xdTXM3            0.550230         -0.087434          0.579197   \n",
              "WHWymJu6zNZi            0.129684         -0.095509          0.132499   \n",
              "4PAQp1M6EyAo            0.690517          0.215647          0.573338   \n",
              "obEacy4Of68I            0.565864          0.463884          0.584879   \n",
              "s7WzzDcmDOhF            0.286740          0.404671          0.331130   \n",
              "\n",
              "                0throw_10thcolumn  ...  195throw_196thcolumn  \\\n",
              "participant_id                     ...                         \n",
              "70z8Q2xdTXM3             0.535364  ...              0.305246   \n",
              "WHWymJu6zNZi             0.314387  ...              0.295154   \n",
              "4PAQp1M6EyAo             0.430980  ...              0.464666   \n",
              "obEacy4Of68I             0.295275  ...              0.140506   \n",
              "s7WzzDcmDOhF             0.377236  ...             -0.223803   \n",
              "\n",
              "                195throw_197thcolumn  195throw_198thcolumn  \\\n",
              "participant_id                                               \n",
              "70z8Q2xdTXM3                0.583610              0.540900   \n",
              "WHWymJu6zNZi               -0.021363              0.000563   \n",
              "4PAQp1M6EyAo               -0.031043             -0.048386   \n",
              "obEacy4Of68I               -0.261833              0.269811   \n",
              "s7WzzDcmDOhF                0.010372             -0.154615   \n",
              "\n",
              "                195throw_199thcolumn  196throw_197thcolumn  \\\n",
              "participant_id                                               \n",
              "70z8Q2xdTXM3                0.228036              0.343643   \n",
              "WHWymJu6zNZi               -0.119118              0.511165   \n",
              "4PAQp1M6EyAo                0.092712              0.464166   \n",
              "obEacy4Of68I               -0.023052              0.490709   \n",
              "s7WzzDcmDOhF               -0.602806              0.555110   \n",
              "\n",
              "                196throw_198thcolumn  196throw_199thcolumn  \\\n",
              "participant_id                                               \n",
              "70z8Q2xdTXM3                0.485184              0.019701   \n",
              "WHWymJu6zNZi                0.396962              0.201877   \n",
              "4PAQp1M6EyAo                0.337855              0.471782   \n",
              "obEacy4Of68I                0.684443              0.260870   \n",
              "s7WzzDcmDOhF               -0.248578              0.254210   \n",
              "\n",
              "                197throw_198thcolumn  197throw_199thcolumn  \\\n",
              "participant_id                                               \n",
              "70z8Q2xdTXM3                0.614717              0.524420   \n",
              "WHWymJu6zNZi                0.664817              0.612853   \n",
              "4PAQp1M6EyAo                0.504960              0.566427   \n",
              "obEacy4Of68I                0.373375              0.490076   \n",
              "s7WzzDcmDOhF                0.061103              0.132521   \n",
              "\n",
              "                198throw_199thcolumn  \n",
              "participant_id                        \n",
              "70z8Q2xdTXM3                0.404290  \n",
              "WHWymJu6zNZi                0.557002  \n",
              "4PAQp1M6EyAo                0.691008  \n",
              "obEacy4Of68I                0.617905  \n",
              "s7WzzDcmDOhF                0.119855  \n",
              "\n",
              "[5 rows x 19900 columns]"
            ]
          },
          "execution_count": 7,
          "metadata": {},
          "output_type": "execute_result"
        }
      ],
      "source": [
        "train_X_df.head()"
      ]
    },
    {
      "cell_type": "code",
      "execution_count": 8,
      "metadata": {
        "colab": {
          "base_uri": "https://localhost:8080/",
          "height": 235
        },
        "id": "l_r2NL22eq9y",
        "outputId": "c6d6a588-a416-4ab6-abae-4af0f99565bc"
      },
      "outputs": [
        {
          "data": {
            "application/vnd.google.colaboratory.intrinsic+json": {
              "summary": "{\n  \"name\": \"train_y_df\",\n  \"rows\": 1213,\n  \"fields\": [\n    {\n      \"column\": \"participant_id\",\n      \"properties\": {\n        \"dtype\": \"string\",\n        \"num_unique_values\": 1213,\n        \"samples\": [\n          \"toSHk1Zninz2\",\n          \"auVpv0cuxKVi\",\n          \"8jjvOdQ5WL1z\"\n        ],\n        \"semantic_type\": \"\",\n        \"description\": \"\"\n      }\n    },\n    {\n      \"column\": \"ADHD_Outcome\",\n      \"properties\": {\n        \"dtype\": \"number\",\n        \"std\": 0,\n        \"min\": 0,\n        \"max\": 1,\n        \"num_unique_values\": 2,\n        \"samples\": [\n          0,\n          1\n        ],\n        \"semantic_type\": \"\",\n        \"description\": \"\"\n      }\n    },\n    {\n      \"column\": \"Sex_F\",\n      \"properties\": {\n        \"dtype\": \"number\",\n        \"std\": 0,\n        \"min\": 0,\n        \"max\": 1,\n        \"num_unique_values\": 2,\n        \"samples\": [\n          1,\n          0\n        ],\n        \"semantic_type\": \"\",\n        \"description\": \"\"\n      }\n    }\n  ]\n}",
              "type": "dataframe",
              "variable_name": "train_y_df"
            },
            "text/html": [
              "\n",
              "  <div id=\"df-5969e176-7816-44bd-b9e1-9e43c4692dbe\" class=\"colab-df-container\">\n",
              "    <div>\n",
              "<style scoped>\n",
              "    .dataframe tbody tr th:only-of-type {\n",
              "        vertical-align: middle;\n",
              "    }\n",
              "\n",
              "    .dataframe tbody tr th {\n",
              "        vertical-align: top;\n",
              "    }\n",
              "\n",
              "    .dataframe thead th {\n",
              "        text-align: right;\n",
              "    }\n",
              "</style>\n",
              "<table border=\"1\" class=\"dataframe\">\n",
              "  <thead>\n",
              "    <tr style=\"text-align: right;\">\n",
              "      <th></th>\n",
              "      <th>ADHD_Outcome</th>\n",
              "      <th>Sex_F</th>\n",
              "    </tr>\n",
              "    <tr>\n",
              "      <th>participant_id</th>\n",
              "      <th></th>\n",
              "      <th></th>\n",
              "    </tr>\n",
              "  </thead>\n",
              "  <tbody>\n",
              "    <tr>\n",
              "      <th>70z8Q2xdTXM3</th>\n",
              "      <td>1</td>\n",
              "      <td>0</td>\n",
              "    </tr>\n",
              "    <tr>\n",
              "      <th>WHWymJu6zNZi</th>\n",
              "      <td>1</td>\n",
              "      <td>1</td>\n",
              "    </tr>\n",
              "    <tr>\n",
              "      <th>4PAQp1M6EyAo</th>\n",
              "      <td>1</td>\n",
              "      <td>1</td>\n",
              "    </tr>\n",
              "    <tr>\n",
              "      <th>obEacy4Of68I</th>\n",
              "      <td>1</td>\n",
              "      <td>1</td>\n",
              "    </tr>\n",
              "    <tr>\n",
              "      <th>s7WzzDcmDOhF</th>\n",
              "      <td>1</td>\n",
              "      <td>1</td>\n",
              "    </tr>\n",
              "  </tbody>\n",
              "</table>\n",
              "</div>\n",
              "    <div class=\"colab-df-buttons\">\n",
              "\n",
              "  <div class=\"colab-df-container\">\n",
              "    <button class=\"colab-df-convert\" onclick=\"convertToInteractive('df-5969e176-7816-44bd-b9e1-9e43c4692dbe')\"\n",
              "            title=\"Convert this dataframe to an interactive table.\"\n",
              "            style=\"display:none;\">\n",
              "\n",
              "  <svg xmlns=\"http://www.w3.org/2000/svg\" height=\"24px\" viewBox=\"0 -960 960 960\">\n",
              "    <path d=\"M120-120v-720h720v720H120Zm60-500h600v-160H180v160Zm220 220h160v-160H400v160Zm0 220h160v-160H400v160ZM180-400h160v-160H180v160Zm440 0h160v-160H620v160ZM180-180h160v-160H180v160Zm440 0h160v-160H620v160Z\"/>\n",
              "  </svg>\n",
              "    </button>\n",
              "\n",
              "  <style>\n",
              "    .colab-df-container {\n",
              "      display:flex;\n",
              "      gap: 12px;\n",
              "    }\n",
              "\n",
              "    .colab-df-convert {\n",
              "      background-color: #E8F0FE;\n",
              "      border: none;\n",
              "      border-radius: 50%;\n",
              "      cursor: pointer;\n",
              "      display: none;\n",
              "      fill: #1967D2;\n",
              "      height: 32px;\n",
              "      padding: 0 0 0 0;\n",
              "      width: 32px;\n",
              "    }\n",
              "\n",
              "    .colab-df-convert:hover {\n",
              "      background-color: #E2EBFA;\n",
              "      box-shadow: 0px 1px 2px rgba(60, 64, 67, 0.3), 0px 1px 3px 1px rgba(60, 64, 67, 0.15);\n",
              "      fill: #174EA6;\n",
              "    }\n",
              "\n",
              "    .colab-df-buttons div {\n",
              "      margin-bottom: 4px;\n",
              "    }\n",
              "\n",
              "    [theme=dark] .colab-df-convert {\n",
              "      background-color: #3B4455;\n",
              "      fill: #D2E3FC;\n",
              "    }\n",
              "\n",
              "    [theme=dark] .colab-df-convert:hover {\n",
              "      background-color: #434B5C;\n",
              "      box-shadow: 0px 1px 3px 1px rgba(0, 0, 0, 0.15);\n",
              "      filter: drop-shadow(0px 1px 2px rgba(0, 0, 0, 0.3));\n",
              "      fill: #FFFFFF;\n",
              "    }\n",
              "  </style>\n",
              "\n",
              "    <script>\n",
              "      const buttonEl =\n",
              "        document.querySelector('#df-5969e176-7816-44bd-b9e1-9e43c4692dbe button.colab-df-convert');\n",
              "      buttonEl.style.display =\n",
              "        google.colab.kernel.accessAllowed ? 'block' : 'none';\n",
              "\n",
              "      async function convertToInteractive(key) {\n",
              "        const element = document.querySelector('#df-5969e176-7816-44bd-b9e1-9e43c4692dbe');\n",
              "        const dataTable =\n",
              "          await google.colab.kernel.invokeFunction('convertToInteractive',\n",
              "                                                    [key], {});\n",
              "        if (!dataTable) return;\n",
              "\n",
              "        const docLinkHtml = 'Like what you see? Visit the ' +\n",
              "          '<a target=\"_blank\" href=https://colab.research.google.com/notebooks/data_table.ipynb>data table notebook</a>'\n",
              "          + ' to learn more about interactive tables.';\n",
              "        element.innerHTML = '';\n",
              "        dataTable['output_type'] = 'display_data';\n",
              "        await google.colab.output.renderOutput(dataTable, element);\n",
              "        const docLink = document.createElement('div');\n",
              "        docLink.innerHTML = docLinkHtml;\n",
              "        element.appendChild(docLink);\n",
              "      }\n",
              "    </script>\n",
              "  </div>\n",
              "\n",
              "\n",
              "<div id=\"df-e3788e42-8704-4c61-848f-a0b558558968\">\n",
              "  <button class=\"colab-df-quickchart\" onclick=\"quickchart('df-e3788e42-8704-4c61-848f-a0b558558968')\"\n",
              "            title=\"Suggest charts\"\n",
              "            style=\"display:none;\">\n",
              "\n",
              "<svg xmlns=\"http://www.w3.org/2000/svg\" height=\"24px\"viewBox=\"0 0 24 24\"\n",
              "     width=\"24px\">\n",
              "    <g>\n",
              "        <path d=\"M19 3H5c-1.1 0-2 .9-2 2v14c0 1.1.9 2 2 2h14c1.1 0 2-.9 2-2V5c0-1.1-.9-2-2-2zM9 17H7v-7h2v7zm4 0h-2V7h2v10zm4 0h-2v-4h2v4z\"/>\n",
              "    </g>\n",
              "</svg>\n",
              "  </button>\n",
              "\n",
              "<style>\n",
              "  .colab-df-quickchart {\n",
              "      --bg-color: #E8F0FE;\n",
              "      --fill-color: #1967D2;\n",
              "      --hover-bg-color: #E2EBFA;\n",
              "      --hover-fill-color: #174EA6;\n",
              "      --disabled-fill-color: #AAA;\n",
              "      --disabled-bg-color: #DDD;\n",
              "  }\n",
              "\n",
              "  [theme=dark] .colab-df-quickchart {\n",
              "      --bg-color: #3B4455;\n",
              "      --fill-color: #D2E3FC;\n",
              "      --hover-bg-color: #434B5C;\n",
              "      --hover-fill-color: #FFFFFF;\n",
              "      --disabled-bg-color: #3B4455;\n",
              "      --disabled-fill-color: #666;\n",
              "  }\n",
              "\n",
              "  .colab-df-quickchart {\n",
              "    background-color: var(--bg-color);\n",
              "    border: none;\n",
              "    border-radius: 50%;\n",
              "    cursor: pointer;\n",
              "    display: none;\n",
              "    fill: var(--fill-color);\n",
              "    height: 32px;\n",
              "    padding: 0;\n",
              "    width: 32px;\n",
              "  }\n",
              "\n",
              "  .colab-df-quickchart:hover {\n",
              "    background-color: var(--hover-bg-color);\n",
              "    box-shadow: 0 1px 2px rgba(60, 64, 67, 0.3), 0 1px 3px 1px rgba(60, 64, 67, 0.15);\n",
              "    fill: var(--button-hover-fill-color);\n",
              "  }\n",
              "\n",
              "  .colab-df-quickchart-complete:disabled,\n",
              "  .colab-df-quickchart-complete:disabled:hover {\n",
              "    background-color: var(--disabled-bg-color);\n",
              "    fill: var(--disabled-fill-color);\n",
              "    box-shadow: none;\n",
              "  }\n",
              "\n",
              "  .colab-df-spinner {\n",
              "    border: 2px solid var(--fill-color);\n",
              "    border-color: transparent;\n",
              "    border-bottom-color: var(--fill-color);\n",
              "    animation:\n",
              "      spin 1s steps(1) infinite;\n",
              "  }\n",
              "\n",
              "  @keyframes spin {\n",
              "    0% {\n",
              "      border-color: transparent;\n",
              "      border-bottom-color: var(--fill-color);\n",
              "      border-left-color: var(--fill-color);\n",
              "    }\n",
              "    20% {\n",
              "      border-color: transparent;\n",
              "      border-left-color: var(--fill-color);\n",
              "      border-top-color: var(--fill-color);\n",
              "    }\n",
              "    30% {\n",
              "      border-color: transparent;\n",
              "      border-left-color: var(--fill-color);\n",
              "      border-top-color: var(--fill-color);\n",
              "      border-right-color: var(--fill-color);\n",
              "    }\n",
              "    40% {\n",
              "      border-color: transparent;\n",
              "      border-right-color: var(--fill-color);\n",
              "      border-top-color: var(--fill-color);\n",
              "    }\n",
              "    60% {\n",
              "      border-color: transparent;\n",
              "      border-right-color: var(--fill-color);\n",
              "    }\n",
              "    80% {\n",
              "      border-color: transparent;\n",
              "      border-right-color: var(--fill-color);\n",
              "      border-bottom-color: var(--fill-color);\n",
              "    }\n",
              "    90% {\n",
              "      border-color: transparent;\n",
              "      border-bottom-color: var(--fill-color);\n",
              "    }\n",
              "  }\n",
              "</style>\n",
              "\n",
              "  <script>\n",
              "    async function quickchart(key) {\n",
              "      const quickchartButtonEl =\n",
              "        document.querySelector('#' + key + ' button');\n",
              "      quickchartButtonEl.disabled = true;  // To prevent multiple clicks.\n",
              "      quickchartButtonEl.classList.add('colab-df-spinner');\n",
              "      try {\n",
              "        const charts = await google.colab.kernel.invokeFunction(\n",
              "            'suggestCharts', [key], {});\n",
              "      } catch (error) {\n",
              "        console.error('Error during call to suggestCharts:', error);\n",
              "      }\n",
              "      quickchartButtonEl.classList.remove('colab-df-spinner');\n",
              "      quickchartButtonEl.classList.add('colab-df-quickchart-complete');\n",
              "    }\n",
              "    (() => {\n",
              "      let quickchartButtonEl =\n",
              "        document.querySelector('#df-e3788e42-8704-4c61-848f-a0b558558968 button');\n",
              "      quickchartButtonEl.style.display =\n",
              "        google.colab.kernel.accessAllowed ? 'block' : 'none';\n",
              "    })();\n",
              "  </script>\n",
              "</div>\n",
              "\n",
              "    </div>\n",
              "  </div>\n"
            ],
            "text/plain": [
              "                ADHD_Outcome  Sex_F\n",
              "participant_id                     \n",
              "70z8Q2xdTXM3               1      0\n",
              "WHWymJu6zNZi               1      1\n",
              "4PAQp1M6EyAo               1      1\n",
              "obEacy4Of68I               1      1\n",
              "s7WzzDcmDOhF               1      1"
            ]
          },
          "execution_count": 8,
          "metadata": {},
          "output_type": "execute_result"
        }
      ],
      "source": [
        "train_y_df.head()"
      ]
    },
    {
      "cell_type": "code",
      "execution_count": 9,
      "metadata": {
        "id": "Uetd7OJQeq9y"
      },
      "outputs": [],
      "source": [
        "class Model(nn.Module):\n",
        "    def __init__(self, input_dim, layer_dims, dropout=0.5, output_dim=4):\n",
        "        super(Model, self).__init__()\n",
        "        layers = []\n",
        "        prev_dim = input_dim\n",
        "        for dim in layer_dims:\n",
        "            layers.append(nn.Linear(prev_dim, dim))\n",
        "            layers.append(nn.ReLU())\n",
        "            if dropout > 0:\n",
        "                layers.append(nn.Dropout(dropout))\n",
        "            prev_dim = dim\n",
        "        layers.append(nn.Linear(prev_dim, output_dim))\n",
        "        self.layers = nn.Sequential(*layers)\n",
        "\n",
        "    def forward(self, x):\n",
        "        return self.layers(x)"
      ]
    },
    {
      "cell_type": "code",
      "execution_count": 10,
      "metadata": {
        "colab": {
          "base_uri": "https://localhost:8080/"
        },
        "id": "YQKVAFVYeq9z",
        "outputId": "83c1fdbe-20bd-46fd-9124-952290bae441"
      },
      "outputs": [
        {
          "name": "stdout",
          "output_type": "stream",
          "text": [
            "----------------------------------------------------------------\n",
            "        Layer (type)               Output Shape         Param #\n",
            "================================================================\n",
            "            Linear-1                   [-1, 64]           6,464\n",
            "              ReLU-2                   [-1, 64]               0\n",
            "           Dropout-3                   [-1, 64]               0\n",
            "            Linear-4                   [-1, 32]           2,080\n",
            "              ReLU-5                   [-1, 32]               0\n",
            "           Dropout-6                   [-1, 32]               0\n",
            "            Linear-7                    [-1, 4]             132\n",
            "================================================================\n",
            "Total params: 8,676\n",
            "Trainable params: 8,676\n",
            "Non-trainable params: 0\n",
            "----------------------------------------------------------------\n",
            "Input size (MB): 0.00\n",
            "Forward/backward pass size (MB): 0.00\n",
            "Params size (MB): 0.03\n",
            "Estimated Total Size (MB): 0.04\n",
            "----------------------------------------------------------------\n"
          ]
        }
      ],
      "source": [
        "temp_model = Model(100, [64, 32], dropout=0.3, output_dim=4).to(device)\n",
        "summary(temp_model, (100,))"
      ]
    },
    {
      "cell_type": "code",
      "execution_count": 11,
      "metadata": {
        "id": "6ATgAZZqeq9z"
      },
      "outputs": [],
      "source": [
        "X = np.array(train_X_df.values, dtype=np.float32)"
      ]
    },
    {
      "cell_type": "code",
      "execution_count": 12,
      "metadata": {
        "colab": {
          "base_uri": "https://localhost:8080/"
        },
        "id": "hDTb0pRAeq90",
        "outputId": "10ed5f16-b5e6-4895-8f9a-b0950bdc3322"
      },
      "outputs": [
        {
          "data": {
            "text/plain": [
              "(1213, 19900)"
            ]
          },
          "execution_count": 12,
          "metadata": {},
          "output_type": "execute_result"
        }
      ],
      "source": [
        "X.shape"
      ]
    },
    {
      "cell_type": "code",
      "execution_count": 13,
      "metadata": {
        "id": "lve1uz7geq90"
      },
      "outputs": [],
      "source": [
        "y_two_vars = train_y_df.values\n",
        "y = np.array(y_two_vars[:, 0] * 2 + y_two_vars[:, 1], dtype=np.uint8)"
      ]
    },
    {
      "cell_type": "code",
      "execution_count": 14,
      "metadata": {
        "colab": {
          "base_uri": "https://localhost:8080/"
        },
        "id": "NPXEuAtReq90",
        "outputId": "b9e35bfc-bc38-4812-a22c-1df5833085c3"
      },
      "outputs": [
        {
          "data": {
            "text/plain": [
              "(array([2, 3, 3], dtype=uint8),\n",
              " array([[1, 0],\n",
              "        [1, 1],\n",
              "        [1, 1]]))"
            ]
          },
          "execution_count": 14,
          "metadata": {},
          "output_type": "execute_result"
        }
      ],
      "source": [
        "y[:3], y_two_vars[:3]"
      ]
    },
    {
      "cell_type": "code",
      "execution_count": null,
      "metadata": {
        "id": "uIqdEmhxeq91"
      },
      "outputs": [],
      "source": [
        "layer_dims_list = [\n",
        "    [64, 32, 16],\n",
        "    [128, 64, 32],\n",
        "    [128, 64, 32, 16],\n",
        "    [256, 128, 64, 32],\n",
        "    [256, 128, 64, 32, 16],\n",
        "    [512, 256, 128, 64],\n",
        "    [512, 256, 128, 64, 32],\n",
        "    [512, 256, 128, 64, 32, 16],\n",
        "]\n",
        "dropouts = [0.0, 0.1, 0.2, 0.3, 0.4, 0.5]"
      ]
    },
    {
      "cell_type": "code",
      "execution_count": 16,
      "metadata": {
        "id": "USUt5QOAeq91"
      },
      "outputs": [],
      "source": [
        "criterion = nn.CrossEntropyLoss()"
      ]
    },
    {
      "cell_type": "code",
      "execution_count": 17,
      "metadata": {
        "id": "kMedYN-3l-xz"
      },
      "outputs": [],
      "source": [
        "seed = 42  # Choose any fixed number\n",
        "random.seed(seed)\n",
        "np.random.seed(seed)\n",
        "torch.manual_seed(seed)\n",
        "torch.cuda.manual_seed_all(seed)  # If using CUDA"
      ]
    },
    {
      "cell_type": "code",
      "execution_count": 18,
      "metadata": {
        "id": "iEYp9HpWeq91"
      },
      "outputs": [],
      "source": [
        "kf = KFold(n_splits=5, shuffle=True, random_state=42)"
      ]
    },
    {
      "cell_type": "code",
      "execution_count": 19,
      "metadata": {
        "colab": {
          "base_uri": "https://localhost:8080/"
        },
        "id": "UPx1weRgeq92",
        "outputId": "40def5c0-42c3-4b67-fec4-4d5de7534d45"
      },
      "outputs": [
        {
          "name": "stdout",
          "output_type": "stream",
          "text": [
            "complexity: [64, 32, 16] dropout rate: 0.0\n"
          ]
        },
        {
          "name": "stderr",
          "output_type": "stream",
          "text": [
            "100%|██████████| 200/200 [00:16<00:00, 11.81it/s]\n",
            "100%|██████████| 200/200 [00:16<00:00, 12.31it/s]\n",
            "100%|██████████| 200/200 [00:16<00:00, 12.19it/s]\n",
            "100%|██████████| 200/200 [00:17<00:00, 11.72it/s]\n",
            "100%|██████████| 200/200 [00:16<00:00, 11.81it/s]\n"
          ]
        },
        {
          "name": "stdout",
          "output_type": "stream",
          "text": [
            "[0.18174100941503318, 0.1558073654390935, 0.1725067385444744, 0.16056338028169015, 0.2526053074384982]\n",
            "complexity: [128, 64, 32] dropout rate: 0.0\n"
          ]
        },
        {
          "name": "stderr",
          "output_type": "stream",
          "text": [
            "100%|██████████| 200/200 [00:16<00:00, 11.89it/s]\n",
            "100%|██████████| 200/200 [00:17<00:00, 11.57it/s]\n",
            "100%|██████████| 200/200 [00:17<00:00, 11.50it/s]\n",
            "100%|██████████| 200/200 [00:16<00:00, 11.78it/s]\n",
            "100%|██████████| 200/200 [00:17<00:00, 11.68it/s]\n"
          ]
        },
        {
          "name": "stdout",
          "output_type": "stream",
          "text": [
            "[0.16960317460317462, 0.19521286356546472, 0.2100162726198324, 0.1601123595505618, 0.26139988196725783]\n",
            "complexity: [128, 64, 32, 16] dropout rate: 0.0\n"
          ]
        },
        {
          "name": "stderr",
          "output_type": "stream",
          "text": [
            "100%|██████████| 200/200 [00:17<00:00, 11.29it/s]\n",
            "100%|██████████| 200/200 [00:16<00:00, 11.85it/s]\n",
            "100%|██████████| 200/200 [00:16<00:00, 11.97it/s]\n",
            "100%|██████████| 200/200 [00:17<00:00, 11.36it/s]\n",
            "100%|██████████| 200/200 [00:17<00:00, 11.41it/s]\n"
          ]
        },
        {
          "name": "stdout",
          "output_type": "stream",
          "text": [
            "[0.22595870206489677, 0.25507243516362055, 0.1725067385444744, 0.23682966286718182, 0.16574585635359115]\n",
            "complexity: [256, 128, 64, 32] dropout rate: 0.0\n"
          ]
        },
        {
          "name": "stderr",
          "output_type": "stream",
          "text": [
            "100%|██████████| 200/200 [00:17<00:00, 11.22it/s]\n",
            "100%|██████████| 200/200 [00:18<00:00, 11.05it/s]\n",
            "100%|██████████| 200/200 [00:17<00:00, 11.30it/s]\n",
            "100%|██████████| 200/200 [00:18<00:00, 10.93it/s]\n",
            "100%|██████████| 200/200 [00:17<00:00, 11.27it/s]\n"
          ]
        },
        {
          "name": "stdout",
          "output_type": "stream",
          "text": [
            "[0.16568732193732194, 0.2556390977443609, 0.2575507679620658, 0.2293488601452311, 0.2501594896331738]\n",
            "complexity: [256, 128, 64, 32, 16] dropout rate: 0.0\n"
          ]
        },
        {
          "name": "stderr",
          "output_type": "stream",
          "text": [
            "100%|██████████| 200/200 [00:17<00:00, 11.45it/s]\n",
            "100%|██████████| 200/200 [00:18<00:00, 10.83it/s]\n",
            "100%|██████████| 200/200 [00:17<00:00, 11.25it/s]\n",
            "100%|██████████| 200/200 [00:17<00:00, 11.30it/s]\n",
            "100%|██████████| 200/200 [00:17<00:00, 11.20it/s]\n"
          ]
        },
        {
          "name": "stdout",
          "output_type": "stream",
          "text": [
            "[0.15482954545454544, 0.1558073654390935, 0.21235412474849094, 0.1954022988505747, 0.2129996852376456]\n",
            "complexity: [512, 256, 128, 64] dropout rate: 0.0\n"
          ]
        },
        {
          "name": "stderr",
          "output_type": "stream",
          "text": [
            "100%|██████████| 200/200 [00:19<00:00, 10.51it/s]\n",
            "100%|██████████| 200/200 [00:19<00:00, 10.12it/s]\n",
            "100%|██████████| 200/200 [00:19<00:00, 10.34it/s]\n",
            "100%|██████████| 200/200 [00:20<00:00,  9.64it/s]\n",
            "100%|██████████| 200/200 [00:20<00:00,  9.60it/s]\n"
          ]
        },
        {
          "name": "stdout",
          "output_type": "stream",
          "text": [
            "[0.23004199432942815, 0.2630141521145411, 0.27838468836428976, 0.16835016835016836, 0.19693743028090457]\n",
            "complexity: [512, 256, 128, 64, 32] dropout rate: 0.0\n"
          ]
        },
        {
          "name": "stderr",
          "output_type": "stream",
          "text": [
            "100%|██████████| 200/200 [00:20<00:00,  9.80it/s]\n",
            "100%|██████████| 200/200 [00:20<00:00,  9.82it/s]\n",
            "100%|██████████| 200/200 [00:19<00:00, 10.12it/s]\n",
            "100%|██████████| 200/200 [00:20<00:00,  9.74it/s]\n",
            "100%|██████████| 200/200 [00:20<00:00,  9.95it/s]\n"
          ]
        },
        {
          "name": "stdout",
          "output_type": "stream",
          "text": [
            "[0.2291883963494133, 0.18638850889192887, 0.2576592553799276, 0.22006613296206057, 0.2597485697079193]\n",
            "complexity: [512, 256, 128, 64, 32, 16] dropout rate: 0.0\n"
          ]
        },
        {
          "name": "stderr",
          "output_type": "stream",
          "text": [
            "100%|██████████| 200/200 [00:20<00:00,  9.79it/s]\n",
            "100%|██████████| 200/200 [00:19<00:00, 10.09it/s]\n",
            "100%|██████████| 200/200 [00:20<00:00,  9.79it/s]\n",
            "100%|██████████| 200/200 [00:19<00:00, 10.01it/s]\n",
            "100%|██████████| 200/200 [00:20<00:00,  9.82it/s]"
          ]
        },
        {
          "name": "stdout",
          "output_type": "stream",
          "text": [
            "[0.15482954545454544, 0.1558073654390935, 0.2759221772379667, 0.1601123595505618, 0.16574585635359115]\n"
          ]
        },
        {
          "name": "stderr",
          "output_type": "stream",
          "text": [
            "\n"
          ]
        }
      ],
      "source": [
        "num_epochs = 200\n",
        "\n",
        "results = {\"-\".join(map(str, layer_dims)): {} for layer_dims in layer_dims_list}\n",
        "epoch_history = {\"-\".join(map(str, layer_dims)): {} for layer_dims in layer_dims_list}\n",
        "for layer_dims in layer_dims_list:\n",
        "    for dropout in dropouts:\n",
        "        print(\"complexity:\", layer_dims, \"dropout rate:\", dropout)\n",
        "        f1_scores = []\n",
        "        best_epochs = []\n",
        "\n",
        "        for fold, (train_index, test_index) in enumerate(kf.split(X)):\n",
        "            model = Model(\n",
        "                input_dim=X.shape[1], layer_dims=layer_dims, dropout=dropout, output_dim=4\n",
        "            ).to(device)\n",
        "            X_train, X_test = X[train_index], X[test_index]\n",
        "            y_train, y_test = y[train_index], y[test_index]\n",
        "\n",
        "            optimizer = optim.Adam(model.parameters(), lr=0.001)\n",
        "            best_test_loss = float(\"inf\")\n",
        "            best_f1 = 0.0\n",
        "            best_epoch = 0\n",
        "\n",
        "            for epoch in trange(num_epochs):\n",
        "                model.train()\n",
        "                optimizer.zero_grad()\n",
        "                outputs = model(torch.tensor(X_train).to(device))\n",
        "                loss = criterion(outputs, torch.tensor(y_train).to(device))\n",
        "                loss.backward()\n",
        "                optimizer.step()\n",
        "\n",
        "                model.eval()\n",
        "                with torch.no_grad():\n",
        "                    test_outputs = model(torch.tensor(X_test).to(device))\n",
        "                    test_loss = criterion(test_outputs, torch.tensor(y_test).to(device)).item()\n",
        "                    predicted = torch.argmax(test_outputs.data, 1).cpu()\n",
        "                    f1 = f1_score(y_test, predicted, average=\"macro\")\n",
        "\n",
        "                if test_loss < best_test_loss:\n",
        "                    best_test_loss = test_loss\n",
        "                    best_f1 = f1\n",
        "                    best_epoch = epoch\n",
        "\n",
        "\n",
        "            f1_scores.append(float(best_f1))\n",
        "            best_epochs.append(best_epoch)\n",
        "        print(f1_scores)\n",
        "        results[\"-\".join(map(str, layer_dims))][dropout] = f1_scores\n",
        "        epoch_history[\"-\".join(map(str, layer_dims))][dropout] = best_epochs"
      ]
    },
    {
      "cell_type": "code",
      "execution_count": 20,
      "metadata": {
        "colab": {
          "base_uri": "https://localhost:8080/"
        },
        "id": "H2ordbIzi25j",
        "outputId": "d80156ab-7f88-4d01-f5eb-e59d236e735d"
      },
      "outputs": [
        {
          "name": "stdout",
          "output_type": "stream",
          "text": [
            "{\n",
            "    \"64-32-16\": {\n",
            "        \"0.0\": [\n",
            "            0.18174100941503318,\n",
            "            0.1558073654390935,\n",
            "            0.1725067385444744,\n",
            "            0.16056338028169015,\n",
            "            0.2526053074384982\n",
            "        ]\n",
            "    },\n",
            "    \"128-64-32\": {\n",
            "        \"0.0\": [\n",
            "            0.16960317460317462,\n",
            "            0.19521286356546472,\n",
            "            0.2100162726198324,\n",
            "            0.1601123595505618,\n",
            "            0.26139988196725783\n",
            "        ]\n",
            "    },\n",
            "    \"128-64-32-16\": {\n",
            "        \"0.0\": [\n",
            "            0.22595870206489677,\n",
            "            0.25507243516362055,\n",
            "            0.1725067385444744,\n",
            "            0.23682966286718182,\n",
            "            0.16574585635359115\n",
            "        ]\n",
            "    },\n",
            "    \"256-128-64-32\": {\n",
            "        \"0.0\": [\n",
            "            0.16568732193732194,\n",
            "            0.2556390977443609,\n",
            "            0.2575507679620658,\n",
            "            0.2293488601452311,\n",
            "            0.2501594896331738\n",
            "        ]\n",
            "    },\n",
            "    \"256-128-64-32-16\": {\n",
            "        \"0.0\": [\n",
            "            0.15482954545454544,\n",
            "            0.1558073654390935,\n",
            "            0.21235412474849094,\n",
            "            0.1954022988505747,\n",
            "            0.2129996852376456\n",
            "        ]\n",
            "    },\n",
            "    \"512-256-128-64\": {\n",
            "        \"0.0\": [\n",
            "            0.23004199432942815,\n",
            "            0.2630141521145411,\n",
            "            0.27838468836428976,\n",
            "            0.16835016835016836,\n",
            "            0.19693743028090457\n",
            "        ]\n",
            "    },\n",
            "    \"512-256-128-64-32\": {\n",
            "        \"0.0\": [\n",
            "            0.2291883963494133,\n",
            "            0.18638850889192887,\n",
            "            0.2576592553799276,\n",
            "            0.22006613296206057,\n",
            "            0.2597485697079193\n",
            "        ]\n",
            "    },\n",
            "    \"512-256-128-64-32-16\": {\n",
            "        \"0.0\": [\n",
            "            0.15482954545454544,\n",
            "            0.1558073654390935,\n",
            "            0.2759221772379667,\n",
            "            0.1601123595505618,\n",
            "            0.16574585635359115\n",
            "        ]\n",
            "    }\n",
            "}\n"
          ]
        }
      ],
      "source": [
        "results_json = json.dumps(results, indent=4)\n",
        "print(results_json)"
      ]
    },
    {
      "cell_type": "code",
      "execution_count": 21,
      "metadata": {
        "id": "jSz0JayUeq92"
      },
      "outputs": [],
      "source": [
        "full_results = {}\n",
        "summary_results = {}\n",
        "final_epoch_history = {}\n",
        "\n",
        "for layer_dims in results.keys():\n",
        "    for dropout in results[layer_dims].keys():\n",
        "        full_results[layer_dims+'-'+str(dropout)] = results[layer_dims][dropout]\n",
        "        summary_results[layer_dims+'-'+str(dropout)] = float(np.mean(results[layer_dims][dropout]))\n",
        "        final_epoch_history[layer_dims+'-'+str(dropout)] = epoch_history[layer_dims][dropout]\n",
        "\n",
        "summary_results = dict(sorted(summary_results.items(), key=lambda item: item[1], reverse=True))\n",
        "keys = list(summary_results.keys())\n",
        "final_epoch_history = dict(sorted(final_epoch_history.items(), key=lambda item: keys.index(item[0]), reverse=False))\n",
        "\n",
        "\n",
        "with open(\"full_results.json\", \"w\") as f:\n",
        "    json.dump(results, f, indent=4)\n",
        "\n",
        "\n",
        "with open(\"summary_results.json\", \"w\") as f:\n",
        "    json.dump(summary_results, f, indent=4)\n",
        "\n",
        "\n",
        "with open(\"epoch_history.json\", \"w\") as f:\n",
        "    json.dump(final_epoch_history, f, indent=4)"
      ]
    },
    {
      "cell_type": "code",
      "execution_count": 23,
      "metadata": {
        "id": "TKo3upFVeq94"
      },
      "outputs": [],
      "source": [
        "best_layer_dims, best_dropout, n_epochs = [256,128,64,32], 0, 20"
      ]
    },
    {
      "cell_type": "code",
      "execution_count": 24,
      "metadata": {
        "colab": {
          "base_uri": "https://localhost:8080/"
        },
        "id": "JgMhqUwzeq94",
        "outputId": "a52696e5-1c4a-4a3d-e808-7780661a3546"
      },
      "outputs": [
        {
          "name": "stderr",
          "output_type": "stream",
          "text": [
            "100%|██████████| 20/20 [00:06<00:00,  2.94it/s]\n"
          ]
        }
      ],
      "source": [
        "model = Model(\n",
        "    input_dim=X.shape[1], layer_dims=best_layer_dims, dropout=best_dropout, output_dim=4\n",
        ")\n",
        "optimizer = optim.Adam(model.parameters(), lr=0.001)\n",
        "\n",
        "model.train()\n",
        "for epoch in trange(n_epochs):\n",
        "    optimizer.zero_grad()\n",
        "    outputs = model(torch.tensor(X))\n",
        "    loss = criterion(outputs, torch.tensor(y))\n",
        "    loss.backward()\n",
        "    optimizer.step()"
      ]
    },
    {
      "cell_type": "code",
      "execution_count": 25,
      "metadata": {
        "id": "cHBnTrs9eq95"
      },
      "outputs": [],
      "source": [
        "torch.save(model.state_dict(), \"256-128-64-32-0.0.pth\")"
      ]
    },
    {
      "cell_type": "code",
      "execution_count": 26,
      "metadata": {
        "colab": {
          "base_uri": "https://localhost:8080/"
        },
        "id": "EORvZZ6Ieq95",
        "outputId": "6745dc35-02af-4742-9b5a-d1bb5dba5513"
      },
      "outputs": [
        {
          "name": "stdout",
          "output_type": "stream",
          "text": [
            "0.34458596554316834\n"
          ]
        }
      ],
      "source": [
        "model.eval()\n",
        "with torch.no_grad():\n",
        "    yhat = model(torch.tensor(X))\n",
        "predicted = torch.argmax(yhat, 1)\n",
        "f1 = f1_score(y, predicted, average=\"macro\")\n",
        "print(f1)"
      ]
    }
  ],
  "metadata": {
    "accelerator": "GPU",
    "colab": {
      "gpuType": "T4",
      "provenance": []
    },
    "kernelspec": {
      "display_name": "Python 3",
      "name": "python3"
    },
    "language_info": {
      "codemirror_mode": {
        "name": "ipython",
        "version": 3
      },
      "file_extension": ".py",
      "mimetype": "text/x-python",
      "name": "python",
      "nbconvert_exporter": "python",
      "pygments_lexer": "ipython3",
      "version": "3.9.6"
    }
  },
  "nbformat": 4,
  "nbformat_minor": 0
}
