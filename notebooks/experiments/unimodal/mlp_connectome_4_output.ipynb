{
  "cells": [
    {
      "cell_type": "code",
      "execution_count": 1,
      "metadata": {
        "id": "uaiaGqkyeq9u"
      },
      "outputs": [],
      "source": [
        "import torch\n",
        "import numpy as np\n",
        "import pandas as pd\n",
        "import torch.nn as nn\n",
        "import torch.optim as optim\n",
        "from torchsummary import summary\n",
        "from pprint import pprint\n",
        "import json\n",
        "import random\n",
        "from sklearn.model_selection import KFold\n",
        "from sklearn.metrics import f1_score\n",
        "from tqdm import trange, tqdm"
      ]
    },
    {
      "cell_type": "code",
      "execution_count": 2,
      "metadata": {
        "colab": {
          "base_uri": "https://localhost:8080/"
        },
        "id": "s0J9AFG-ex6q",
        "outputId": "dc6d12be-72c8-4072-f52e-ba82efff62a1"
      },
      "outputs": [
        {
          "output_type": "stream",
          "name": "stdout",
          "text": [
            "Mounted at /content/drive\n"
          ]
        }
      ],
      "source": [
        "from google.colab import drive\n",
        "drive.mount('/content/drive')"
      ]
    },
    {
      "cell_type": "code",
      "execution_count": 3,
      "metadata": {
        "colab": {
          "base_uri": "https://localhost:8080/"
        },
        "id": "umOrVHEhfCRm",
        "outputId": "3275f7b8-1ac1-463a-8b25-140c7c68cc42"
      },
      "outputs": [
        {
          "output_type": "stream",
          "name": "stdout",
          "text": [
            "Archive:  /content/drive/MyDrive/School/2025 Spring/Advanced ML/AML Project/Data/new/preprocessed_selected_features.zip\n",
            "   creating: preprocessed_selected_features/\n",
            "   creating: preprocessed_selected_features/test/\n",
            "   creating: preprocessed_selected_features/train/\n",
            "  inflating: preprocessed_selected_features/test/connectome_matrices.csv  \n",
            "  inflating: preprocessed_selected_features/test/aux.csv  \n",
            "  inflating: preprocessed_selected_features/train/labels.csv  \n",
            "  inflating: preprocessed_selected_features/train/connectome_matrices.csv  \n",
            "  inflating: preprocessed_selected_features/train/aux.csv  \n"
          ]
        }
      ],
      "source": [
        "!unzip '/content/drive/MyDrive/School/2025 Spring/Advanced ML/AML Project/Data/new/preprocessed_selected_features.zip'"
      ]
    },
    {
      "cell_type": "code",
      "source": [
        "def compute_leaderboard_f1_multiclass(y_true, y_pred):\n",
        "    \"\"\"\n",
        "    Multiclass version of compute_leaderboard_f1_binary.\n",
        "    Assumes class encoding:\n",
        "        0 -> [ADHD=0, Sex_F=0]\n",
        "        1 -> [ADHD=0, Sex_F=1]\n",
        "        2 -> [ADHD=1, Sex_F=0]\n",
        "        3 -> [ADHD=1, Sex_F=1]\n",
        "\n",
        "    Returns:\n",
        "    - average of two F1 scores:\n",
        "        (1) ADHD F1 with extra weight on ADHD=1 & Sex_F=1\n",
        "        (2) Sex_F F1 (unweighted)\n",
        "    \"\"\"\n",
        "    y_true = np.array(y_true)\n",
        "    y_pred = np.array(y_pred)\n",
        "\n",
        "    # Decode back to binary labels\n",
        "    true_adhd = (y_true // 2)       # 2 or 3 → 1\n",
        "    true_sex_f = (y_true % 2)       # 1 or 3 → 1\n",
        "    pred_adhd = (y_pred // 2)\n",
        "    pred_sex_f = (y_pred % 2)\n",
        "\n",
        "    # ADHD: apply weight=2 if true_adhd=1 and true_sex_f=1\n",
        "    weights = np.where((true_adhd == 1) & (true_sex_f == 1), 2, 1)\n",
        "    f1_adhd = f1_score(true_adhd, pred_adhd, sample_weight=weights, average='binary')\n",
        "    f1_sex_f = f1_score(true_sex_f, pred_sex_f, average='binary')\n",
        "\n",
        "    return (f1_adhd + f1_sex_f) / 2"
      ],
      "metadata": {
        "id": "P0r8mJMYzEGt"
      },
      "execution_count": 8,
      "outputs": []
    },
    {
      "cell_type": "code",
      "source": [
        "y_true_temp = [0, 1, 2, 3]\n",
        "y_pred_temp = [0, 1, 3, 3]\n",
        "compute_leaderboard_f1_multiclass(y_true_temp, y_pred_temp)"
      ],
      "metadata": {
        "colab": {
          "base_uri": "https://localhost:8080/"
        },
        "id": "EhuJajGGztZB",
        "outputId": "7656a425-637a-4f30-b0d6-b29363d26792"
      },
      "execution_count": 9,
      "outputs": [
        {
          "output_type": "execute_result",
          "data": {
            "text/plain": [
              "0.9"
            ]
          },
          "metadata": {},
          "execution_count": 9
        }
      ]
    },
    {
      "cell_type": "code",
      "execution_count": 10,
      "metadata": {
        "id": "pRcktU5RfXtS"
      },
      "outputs": [],
      "source": [
        "device = torch.device('cuda' if torch.cuda.is_available() else 'cpu')"
      ]
    },
    {
      "cell_type": "code",
      "execution_count": 11,
      "metadata": {
        "id": "B5FPGWFxeq9w"
      },
      "outputs": [],
      "source": [
        "TRAIN_X_PATH = 'preprocessed_selected_features/train/connectome_matrices.csv'\n",
        "TRAIN_Y_PATH = 'preprocessed_selected_features/train/labels.csv'"
      ]
    },
    {
      "cell_type": "code",
      "execution_count": 12,
      "metadata": {
        "id": "OHfxOh5zeq9x"
      },
      "outputs": [],
      "source": [
        "train_X_df = pd.read_csv(TRAIN_X_PATH)\n",
        "train_y_df = pd.read_csv(TRAIN_Y_PATH)\n",
        "train_X_df.set_index('participant_id', inplace=True)\n",
        "train_y_df.set_index('participant_id', inplace=True)\n",
        "train_y_df = train_y_df.reindex(train_X_df.index)"
      ]
    },
    {
      "cell_type": "code",
      "execution_count": 13,
      "metadata": {
        "colab": {
          "base_uri": "https://localhost:8080/",
          "height": 284
        },
        "id": "EjcbTab9eq9x",
        "outputId": "39d79671-7c48-43c8-fa30-1f593853f196"
      },
      "outputs": [
        {
          "output_type": "execute_result",
          "data": {
            "text/plain": [
              "                0throw_1thcolumn  0throw_2thcolumn  0throw_3thcolumn  \\\n",
              "participant_id                                                         \n",
              "70z8Q2xdTXM3            0.270399          0.580746          0.485892   \n",
              "WHWymJu6zNZi            0.745668          0.635297          0.560712   \n",
              "4PAQp1M6EyAo           -0.141711          0.503933          0.294476   \n",
              "obEacy4Of68I            0.242208          0.829234          0.744090   \n",
              "s7WzzDcmDOhF            0.275725          0.675102          0.702433   \n",
              "\n",
              "                0throw_4thcolumn  0throw_5thcolumn  0throw_6thcolumn  \\\n",
              "participant_id                                                         \n",
              "70z8Q2xdTXM3            0.064059          0.617299          0.337467   \n",
              "WHWymJu6zNZi            0.541223          0.439375          0.473556   \n",
              "4PAQp1M6EyAo            0.697041          0.840358          0.476623   \n",
              "obEacy4Of68I            0.627094          0.756269          0.699015   \n",
              "s7WzzDcmDOhF            0.613503          0.804479          0.637771   \n",
              "\n",
              "                0throw_7thcolumn  0throw_8thcolumn  0throw_9thcolumn  \\\n",
              "participant_id                                                         \n",
              "70z8Q2xdTXM3            0.550230         -0.087434          0.579197   \n",
              "WHWymJu6zNZi            0.129684         -0.095509          0.132499   \n",
              "4PAQp1M6EyAo            0.690517          0.215647          0.573338   \n",
              "obEacy4Of68I            0.565864          0.463884          0.584879   \n",
              "s7WzzDcmDOhF            0.286740          0.404671          0.331130   \n",
              "\n",
              "                0throw_10thcolumn  ...  195throw_196thcolumn  \\\n",
              "participant_id                     ...                         \n",
              "70z8Q2xdTXM3             0.535364  ...              0.305246   \n",
              "WHWymJu6zNZi             0.314387  ...              0.295154   \n",
              "4PAQp1M6EyAo             0.430980  ...              0.464666   \n",
              "obEacy4Of68I             0.295275  ...              0.140506   \n",
              "s7WzzDcmDOhF             0.377236  ...             -0.223803   \n",
              "\n",
              "                195throw_197thcolumn  195throw_198thcolumn  \\\n",
              "participant_id                                               \n",
              "70z8Q2xdTXM3                0.583610              0.540900   \n",
              "WHWymJu6zNZi               -0.021363              0.000563   \n",
              "4PAQp1M6EyAo               -0.031043             -0.048386   \n",
              "obEacy4Of68I               -0.261833              0.269811   \n",
              "s7WzzDcmDOhF                0.010372             -0.154615   \n",
              "\n",
              "                195throw_199thcolumn  196throw_197thcolumn  \\\n",
              "participant_id                                               \n",
              "70z8Q2xdTXM3                0.228036              0.343643   \n",
              "WHWymJu6zNZi               -0.119118              0.511165   \n",
              "4PAQp1M6EyAo                0.092712              0.464166   \n",
              "obEacy4Of68I               -0.023052              0.490709   \n",
              "s7WzzDcmDOhF               -0.602806              0.555110   \n",
              "\n",
              "                196throw_198thcolumn  196throw_199thcolumn  \\\n",
              "participant_id                                               \n",
              "70z8Q2xdTXM3                0.485184              0.019701   \n",
              "WHWymJu6zNZi                0.396962              0.201877   \n",
              "4PAQp1M6EyAo                0.337855              0.471782   \n",
              "obEacy4Of68I                0.684443              0.260870   \n",
              "s7WzzDcmDOhF               -0.248578              0.254210   \n",
              "\n",
              "                197throw_198thcolumn  197throw_199thcolumn  \\\n",
              "participant_id                                               \n",
              "70z8Q2xdTXM3                0.614717              0.524420   \n",
              "WHWymJu6zNZi                0.664817              0.612853   \n",
              "4PAQp1M6EyAo                0.504960              0.566427   \n",
              "obEacy4Of68I                0.373375              0.490076   \n",
              "s7WzzDcmDOhF                0.061103              0.132521   \n",
              "\n",
              "                198throw_199thcolumn  \n",
              "participant_id                        \n",
              "70z8Q2xdTXM3                0.404290  \n",
              "WHWymJu6zNZi                0.557002  \n",
              "4PAQp1M6EyAo                0.691008  \n",
              "obEacy4Of68I                0.617905  \n",
              "s7WzzDcmDOhF                0.119855  \n",
              "\n",
              "[5 rows x 19900 columns]"
            ],
            "text/html": [
              "\n",
              "  <div id=\"df-568a6cc1-a5d4-4b65-9150-cd2a83f1858d\" class=\"colab-df-container\">\n",
              "    <div>\n",
              "<style scoped>\n",
              "    .dataframe tbody tr th:only-of-type {\n",
              "        vertical-align: middle;\n",
              "    }\n",
              "\n",
              "    .dataframe tbody tr th {\n",
              "        vertical-align: top;\n",
              "    }\n",
              "\n",
              "    .dataframe thead th {\n",
              "        text-align: right;\n",
              "    }\n",
              "</style>\n",
              "<table border=\"1\" class=\"dataframe\">\n",
              "  <thead>\n",
              "    <tr style=\"text-align: right;\">\n",
              "      <th></th>\n",
              "      <th>0throw_1thcolumn</th>\n",
              "      <th>0throw_2thcolumn</th>\n",
              "      <th>0throw_3thcolumn</th>\n",
              "      <th>0throw_4thcolumn</th>\n",
              "      <th>0throw_5thcolumn</th>\n",
              "      <th>0throw_6thcolumn</th>\n",
              "      <th>0throw_7thcolumn</th>\n",
              "      <th>0throw_8thcolumn</th>\n",
              "      <th>0throw_9thcolumn</th>\n",
              "      <th>0throw_10thcolumn</th>\n",
              "      <th>...</th>\n",
              "      <th>195throw_196thcolumn</th>\n",
              "      <th>195throw_197thcolumn</th>\n",
              "      <th>195throw_198thcolumn</th>\n",
              "      <th>195throw_199thcolumn</th>\n",
              "      <th>196throw_197thcolumn</th>\n",
              "      <th>196throw_198thcolumn</th>\n",
              "      <th>196throw_199thcolumn</th>\n",
              "      <th>197throw_198thcolumn</th>\n",
              "      <th>197throw_199thcolumn</th>\n",
              "      <th>198throw_199thcolumn</th>\n",
              "    </tr>\n",
              "    <tr>\n",
              "      <th>participant_id</th>\n",
              "      <th></th>\n",
              "      <th></th>\n",
              "      <th></th>\n",
              "      <th></th>\n",
              "      <th></th>\n",
              "      <th></th>\n",
              "      <th></th>\n",
              "      <th></th>\n",
              "      <th></th>\n",
              "      <th></th>\n",
              "      <th></th>\n",
              "      <th></th>\n",
              "      <th></th>\n",
              "      <th></th>\n",
              "      <th></th>\n",
              "      <th></th>\n",
              "      <th></th>\n",
              "      <th></th>\n",
              "      <th></th>\n",
              "      <th></th>\n",
              "      <th></th>\n",
              "    </tr>\n",
              "  </thead>\n",
              "  <tbody>\n",
              "    <tr>\n",
              "      <th>70z8Q2xdTXM3</th>\n",
              "      <td>0.270399</td>\n",
              "      <td>0.580746</td>\n",
              "      <td>0.485892</td>\n",
              "      <td>0.064059</td>\n",
              "      <td>0.617299</td>\n",
              "      <td>0.337467</td>\n",
              "      <td>0.550230</td>\n",
              "      <td>-0.087434</td>\n",
              "      <td>0.579197</td>\n",
              "      <td>0.535364</td>\n",
              "      <td>...</td>\n",
              "      <td>0.305246</td>\n",
              "      <td>0.583610</td>\n",
              "      <td>0.540900</td>\n",
              "      <td>0.228036</td>\n",
              "      <td>0.343643</td>\n",
              "      <td>0.485184</td>\n",
              "      <td>0.019701</td>\n",
              "      <td>0.614717</td>\n",
              "      <td>0.524420</td>\n",
              "      <td>0.404290</td>\n",
              "    </tr>\n",
              "    <tr>\n",
              "      <th>WHWymJu6zNZi</th>\n",
              "      <td>0.745668</td>\n",
              "      <td>0.635297</td>\n",
              "      <td>0.560712</td>\n",
              "      <td>0.541223</td>\n",
              "      <td>0.439375</td>\n",
              "      <td>0.473556</td>\n",
              "      <td>0.129684</td>\n",
              "      <td>-0.095509</td>\n",
              "      <td>0.132499</td>\n",
              "      <td>0.314387</td>\n",
              "      <td>...</td>\n",
              "      <td>0.295154</td>\n",
              "      <td>-0.021363</td>\n",
              "      <td>0.000563</td>\n",
              "      <td>-0.119118</td>\n",
              "      <td>0.511165</td>\n",
              "      <td>0.396962</td>\n",
              "      <td>0.201877</td>\n",
              "      <td>0.664817</td>\n",
              "      <td>0.612853</td>\n",
              "      <td>0.557002</td>\n",
              "    </tr>\n",
              "    <tr>\n",
              "      <th>4PAQp1M6EyAo</th>\n",
              "      <td>-0.141711</td>\n",
              "      <td>0.503933</td>\n",
              "      <td>0.294476</td>\n",
              "      <td>0.697041</td>\n",
              "      <td>0.840358</td>\n",
              "      <td>0.476623</td>\n",
              "      <td>0.690517</td>\n",
              "      <td>0.215647</td>\n",
              "      <td>0.573338</td>\n",
              "      <td>0.430980</td>\n",
              "      <td>...</td>\n",
              "      <td>0.464666</td>\n",
              "      <td>-0.031043</td>\n",
              "      <td>-0.048386</td>\n",
              "      <td>0.092712</td>\n",
              "      <td>0.464166</td>\n",
              "      <td>0.337855</td>\n",
              "      <td>0.471782</td>\n",
              "      <td>0.504960</td>\n",
              "      <td>0.566427</td>\n",
              "      <td>0.691008</td>\n",
              "    </tr>\n",
              "    <tr>\n",
              "      <th>obEacy4Of68I</th>\n",
              "      <td>0.242208</td>\n",
              "      <td>0.829234</td>\n",
              "      <td>0.744090</td>\n",
              "      <td>0.627094</td>\n",
              "      <td>0.756269</td>\n",
              "      <td>0.699015</td>\n",
              "      <td>0.565864</td>\n",
              "      <td>0.463884</td>\n",
              "      <td>0.584879</td>\n",
              "      <td>0.295275</td>\n",
              "      <td>...</td>\n",
              "      <td>0.140506</td>\n",
              "      <td>-0.261833</td>\n",
              "      <td>0.269811</td>\n",
              "      <td>-0.023052</td>\n",
              "      <td>0.490709</td>\n",
              "      <td>0.684443</td>\n",
              "      <td>0.260870</td>\n",
              "      <td>0.373375</td>\n",
              "      <td>0.490076</td>\n",
              "      <td>0.617905</td>\n",
              "    </tr>\n",
              "    <tr>\n",
              "      <th>s7WzzDcmDOhF</th>\n",
              "      <td>0.275725</td>\n",
              "      <td>0.675102</td>\n",
              "      <td>0.702433</td>\n",
              "      <td>0.613503</td>\n",
              "      <td>0.804479</td>\n",
              "      <td>0.637771</td>\n",
              "      <td>0.286740</td>\n",
              "      <td>0.404671</td>\n",
              "      <td>0.331130</td>\n",
              "      <td>0.377236</td>\n",
              "      <td>...</td>\n",
              "      <td>-0.223803</td>\n",
              "      <td>0.010372</td>\n",
              "      <td>-0.154615</td>\n",
              "      <td>-0.602806</td>\n",
              "      <td>0.555110</td>\n",
              "      <td>-0.248578</td>\n",
              "      <td>0.254210</td>\n",
              "      <td>0.061103</td>\n",
              "      <td>0.132521</td>\n",
              "      <td>0.119855</td>\n",
              "    </tr>\n",
              "  </tbody>\n",
              "</table>\n",
              "<p>5 rows × 19900 columns</p>\n",
              "</div>\n",
              "    <div class=\"colab-df-buttons\">\n",
              "\n",
              "  <div class=\"colab-df-container\">\n",
              "    <button class=\"colab-df-convert\" onclick=\"convertToInteractive('df-568a6cc1-a5d4-4b65-9150-cd2a83f1858d')\"\n",
              "            title=\"Convert this dataframe to an interactive table.\"\n",
              "            style=\"display:none;\">\n",
              "\n",
              "  <svg xmlns=\"http://www.w3.org/2000/svg\" height=\"24px\" viewBox=\"0 -960 960 960\">\n",
              "    <path d=\"M120-120v-720h720v720H120Zm60-500h600v-160H180v160Zm220 220h160v-160H400v160Zm0 220h160v-160H400v160ZM180-400h160v-160H180v160Zm440 0h160v-160H620v160ZM180-180h160v-160H180v160Zm440 0h160v-160H620v160Z\"/>\n",
              "  </svg>\n",
              "    </button>\n",
              "\n",
              "  <style>\n",
              "    .colab-df-container {\n",
              "      display:flex;\n",
              "      gap: 12px;\n",
              "    }\n",
              "\n",
              "    .colab-df-convert {\n",
              "      background-color: #E8F0FE;\n",
              "      border: none;\n",
              "      border-radius: 50%;\n",
              "      cursor: pointer;\n",
              "      display: none;\n",
              "      fill: #1967D2;\n",
              "      height: 32px;\n",
              "      padding: 0 0 0 0;\n",
              "      width: 32px;\n",
              "    }\n",
              "\n",
              "    .colab-df-convert:hover {\n",
              "      background-color: #E2EBFA;\n",
              "      box-shadow: 0px 1px 2px rgba(60, 64, 67, 0.3), 0px 1px 3px 1px rgba(60, 64, 67, 0.15);\n",
              "      fill: #174EA6;\n",
              "    }\n",
              "\n",
              "    .colab-df-buttons div {\n",
              "      margin-bottom: 4px;\n",
              "    }\n",
              "\n",
              "    [theme=dark] .colab-df-convert {\n",
              "      background-color: #3B4455;\n",
              "      fill: #D2E3FC;\n",
              "    }\n",
              "\n",
              "    [theme=dark] .colab-df-convert:hover {\n",
              "      background-color: #434B5C;\n",
              "      box-shadow: 0px 1px 3px 1px rgba(0, 0, 0, 0.15);\n",
              "      filter: drop-shadow(0px 1px 2px rgba(0, 0, 0, 0.3));\n",
              "      fill: #FFFFFF;\n",
              "    }\n",
              "  </style>\n",
              "\n",
              "    <script>\n",
              "      const buttonEl =\n",
              "        document.querySelector('#df-568a6cc1-a5d4-4b65-9150-cd2a83f1858d button.colab-df-convert');\n",
              "      buttonEl.style.display =\n",
              "        google.colab.kernel.accessAllowed ? 'block' : 'none';\n",
              "\n",
              "      async function convertToInteractive(key) {\n",
              "        const element = document.querySelector('#df-568a6cc1-a5d4-4b65-9150-cd2a83f1858d');\n",
              "        const dataTable =\n",
              "          await google.colab.kernel.invokeFunction('convertToInteractive',\n",
              "                                                    [key], {});\n",
              "        if (!dataTable) return;\n",
              "\n",
              "        const docLinkHtml = 'Like what you see? Visit the ' +\n",
              "          '<a target=\"_blank\" href=https://colab.research.google.com/notebooks/data_table.ipynb>data table notebook</a>'\n",
              "          + ' to learn more about interactive tables.';\n",
              "        element.innerHTML = '';\n",
              "        dataTable['output_type'] = 'display_data';\n",
              "        await google.colab.output.renderOutput(dataTable, element);\n",
              "        const docLink = document.createElement('div');\n",
              "        docLink.innerHTML = docLinkHtml;\n",
              "        element.appendChild(docLink);\n",
              "      }\n",
              "    </script>\n",
              "  </div>\n",
              "\n",
              "\n",
              "<div id=\"df-fa70a0b2-04e9-4315-8f32-98e295edf318\">\n",
              "  <button class=\"colab-df-quickchart\" onclick=\"quickchart('df-fa70a0b2-04e9-4315-8f32-98e295edf318')\"\n",
              "            title=\"Suggest charts\"\n",
              "            style=\"display:none;\">\n",
              "\n",
              "<svg xmlns=\"http://www.w3.org/2000/svg\" height=\"24px\"viewBox=\"0 0 24 24\"\n",
              "     width=\"24px\">\n",
              "    <g>\n",
              "        <path d=\"M19 3H5c-1.1 0-2 .9-2 2v14c0 1.1.9 2 2 2h14c1.1 0 2-.9 2-2V5c0-1.1-.9-2-2-2zM9 17H7v-7h2v7zm4 0h-2V7h2v10zm4 0h-2v-4h2v4z\"/>\n",
              "    </g>\n",
              "</svg>\n",
              "  </button>\n",
              "\n",
              "<style>\n",
              "  .colab-df-quickchart {\n",
              "      --bg-color: #E8F0FE;\n",
              "      --fill-color: #1967D2;\n",
              "      --hover-bg-color: #E2EBFA;\n",
              "      --hover-fill-color: #174EA6;\n",
              "      --disabled-fill-color: #AAA;\n",
              "      --disabled-bg-color: #DDD;\n",
              "  }\n",
              "\n",
              "  [theme=dark] .colab-df-quickchart {\n",
              "      --bg-color: #3B4455;\n",
              "      --fill-color: #D2E3FC;\n",
              "      --hover-bg-color: #434B5C;\n",
              "      --hover-fill-color: #FFFFFF;\n",
              "      --disabled-bg-color: #3B4455;\n",
              "      --disabled-fill-color: #666;\n",
              "  }\n",
              "\n",
              "  .colab-df-quickchart {\n",
              "    background-color: var(--bg-color);\n",
              "    border: none;\n",
              "    border-radius: 50%;\n",
              "    cursor: pointer;\n",
              "    display: none;\n",
              "    fill: var(--fill-color);\n",
              "    height: 32px;\n",
              "    padding: 0;\n",
              "    width: 32px;\n",
              "  }\n",
              "\n",
              "  .colab-df-quickchart:hover {\n",
              "    background-color: var(--hover-bg-color);\n",
              "    box-shadow: 0 1px 2px rgba(60, 64, 67, 0.3), 0 1px 3px 1px rgba(60, 64, 67, 0.15);\n",
              "    fill: var(--button-hover-fill-color);\n",
              "  }\n",
              "\n",
              "  .colab-df-quickchart-complete:disabled,\n",
              "  .colab-df-quickchart-complete:disabled:hover {\n",
              "    background-color: var(--disabled-bg-color);\n",
              "    fill: var(--disabled-fill-color);\n",
              "    box-shadow: none;\n",
              "  }\n",
              "\n",
              "  .colab-df-spinner {\n",
              "    border: 2px solid var(--fill-color);\n",
              "    border-color: transparent;\n",
              "    border-bottom-color: var(--fill-color);\n",
              "    animation:\n",
              "      spin 1s steps(1) infinite;\n",
              "  }\n",
              "\n",
              "  @keyframes spin {\n",
              "    0% {\n",
              "      border-color: transparent;\n",
              "      border-bottom-color: var(--fill-color);\n",
              "      border-left-color: var(--fill-color);\n",
              "    }\n",
              "    20% {\n",
              "      border-color: transparent;\n",
              "      border-left-color: var(--fill-color);\n",
              "      border-top-color: var(--fill-color);\n",
              "    }\n",
              "    30% {\n",
              "      border-color: transparent;\n",
              "      border-left-color: var(--fill-color);\n",
              "      border-top-color: var(--fill-color);\n",
              "      border-right-color: var(--fill-color);\n",
              "    }\n",
              "    40% {\n",
              "      border-color: transparent;\n",
              "      border-right-color: var(--fill-color);\n",
              "      border-top-color: var(--fill-color);\n",
              "    }\n",
              "    60% {\n",
              "      border-color: transparent;\n",
              "      border-right-color: var(--fill-color);\n",
              "    }\n",
              "    80% {\n",
              "      border-color: transparent;\n",
              "      border-right-color: var(--fill-color);\n",
              "      border-bottom-color: var(--fill-color);\n",
              "    }\n",
              "    90% {\n",
              "      border-color: transparent;\n",
              "      border-bottom-color: var(--fill-color);\n",
              "    }\n",
              "  }\n",
              "</style>\n",
              "\n",
              "  <script>\n",
              "    async function quickchart(key) {\n",
              "      const quickchartButtonEl =\n",
              "        document.querySelector('#' + key + ' button');\n",
              "      quickchartButtonEl.disabled = true;  // To prevent multiple clicks.\n",
              "      quickchartButtonEl.classList.add('colab-df-spinner');\n",
              "      try {\n",
              "        const charts = await google.colab.kernel.invokeFunction(\n",
              "            'suggestCharts', [key], {});\n",
              "      } catch (error) {\n",
              "        console.error('Error during call to suggestCharts:', error);\n",
              "      }\n",
              "      quickchartButtonEl.classList.remove('colab-df-spinner');\n",
              "      quickchartButtonEl.classList.add('colab-df-quickchart-complete');\n",
              "    }\n",
              "    (() => {\n",
              "      let quickchartButtonEl =\n",
              "        document.querySelector('#df-fa70a0b2-04e9-4315-8f32-98e295edf318 button');\n",
              "      quickchartButtonEl.style.display =\n",
              "        google.colab.kernel.accessAllowed ? 'block' : 'none';\n",
              "    })();\n",
              "  </script>\n",
              "</div>\n",
              "\n",
              "    </div>\n",
              "  </div>\n"
            ],
            "application/vnd.google.colaboratory.intrinsic+json": {
              "type": "dataframe",
              "variable_name": "train_X_df"
            }
          },
          "metadata": {},
          "execution_count": 13
        }
      ],
      "source": [
        "train_X_df.head()"
      ]
    },
    {
      "cell_type": "code",
      "execution_count": 14,
      "metadata": {
        "colab": {
          "base_uri": "https://localhost:8080/",
          "height": 235
        },
        "id": "l_r2NL22eq9y",
        "outputId": "d86b7778-ab55-447c-e440-28915d846324"
      },
      "outputs": [
        {
          "output_type": "execute_result",
          "data": {
            "text/plain": [
              "                ADHD_Outcome  Sex_F\n",
              "participant_id                     \n",
              "70z8Q2xdTXM3               1      0\n",
              "WHWymJu6zNZi               1      1\n",
              "4PAQp1M6EyAo               1      1\n",
              "obEacy4Of68I               1      1\n",
              "s7WzzDcmDOhF               1      1"
            ],
            "text/html": [
              "\n",
              "  <div id=\"df-df30bc60-a214-4bc5-8d3d-0d82afa4f144\" class=\"colab-df-container\">\n",
              "    <div>\n",
              "<style scoped>\n",
              "    .dataframe tbody tr th:only-of-type {\n",
              "        vertical-align: middle;\n",
              "    }\n",
              "\n",
              "    .dataframe tbody tr th {\n",
              "        vertical-align: top;\n",
              "    }\n",
              "\n",
              "    .dataframe thead th {\n",
              "        text-align: right;\n",
              "    }\n",
              "</style>\n",
              "<table border=\"1\" class=\"dataframe\">\n",
              "  <thead>\n",
              "    <tr style=\"text-align: right;\">\n",
              "      <th></th>\n",
              "      <th>ADHD_Outcome</th>\n",
              "      <th>Sex_F</th>\n",
              "    </tr>\n",
              "    <tr>\n",
              "      <th>participant_id</th>\n",
              "      <th></th>\n",
              "      <th></th>\n",
              "    </tr>\n",
              "  </thead>\n",
              "  <tbody>\n",
              "    <tr>\n",
              "      <th>70z8Q2xdTXM3</th>\n",
              "      <td>1</td>\n",
              "      <td>0</td>\n",
              "    </tr>\n",
              "    <tr>\n",
              "      <th>WHWymJu6zNZi</th>\n",
              "      <td>1</td>\n",
              "      <td>1</td>\n",
              "    </tr>\n",
              "    <tr>\n",
              "      <th>4PAQp1M6EyAo</th>\n",
              "      <td>1</td>\n",
              "      <td>1</td>\n",
              "    </tr>\n",
              "    <tr>\n",
              "      <th>obEacy4Of68I</th>\n",
              "      <td>1</td>\n",
              "      <td>1</td>\n",
              "    </tr>\n",
              "    <tr>\n",
              "      <th>s7WzzDcmDOhF</th>\n",
              "      <td>1</td>\n",
              "      <td>1</td>\n",
              "    </tr>\n",
              "  </tbody>\n",
              "</table>\n",
              "</div>\n",
              "    <div class=\"colab-df-buttons\">\n",
              "\n",
              "  <div class=\"colab-df-container\">\n",
              "    <button class=\"colab-df-convert\" onclick=\"convertToInteractive('df-df30bc60-a214-4bc5-8d3d-0d82afa4f144')\"\n",
              "            title=\"Convert this dataframe to an interactive table.\"\n",
              "            style=\"display:none;\">\n",
              "\n",
              "  <svg xmlns=\"http://www.w3.org/2000/svg\" height=\"24px\" viewBox=\"0 -960 960 960\">\n",
              "    <path d=\"M120-120v-720h720v720H120Zm60-500h600v-160H180v160Zm220 220h160v-160H400v160Zm0 220h160v-160H400v160ZM180-400h160v-160H180v160Zm440 0h160v-160H620v160ZM180-180h160v-160H180v160Zm440 0h160v-160H620v160Z\"/>\n",
              "  </svg>\n",
              "    </button>\n",
              "\n",
              "  <style>\n",
              "    .colab-df-container {\n",
              "      display:flex;\n",
              "      gap: 12px;\n",
              "    }\n",
              "\n",
              "    .colab-df-convert {\n",
              "      background-color: #E8F0FE;\n",
              "      border: none;\n",
              "      border-radius: 50%;\n",
              "      cursor: pointer;\n",
              "      display: none;\n",
              "      fill: #1967D2;\n",
              "      height: 32px;\n",
              "      padding: 0 0 0 0;\n",
              "      width: 32px;\n",
              "    }\n",
              "\n",
              "    .colab-df-convert:hover {\n",
              "      background-color: #E2EBFA;\n",
              "      box-shadow: 0px 1px 2px rgba(60, 64, 67, 0.3), 0px 1px 3px 1px rgba(60, 64, 67, 0.15);\n",
              "      fill: #174EA6;\n",
              "    }\n",
              "\n",
              "    .colab-df-buttons div {\n",
              "      margin-bottom: 4px;\n",
              "    }\n",
              "\n",
              "    [theme=dark] .colab-df-convert {\n",
              "      background-color: #3B4455;\n",
              "      fill: #D2E3FC;\n",
              "    }\n",
              "\n",
              "    [theme=dark] .colab-df-convert:hover {\n",
              "      background-color: #434B5C;\n",
              "      box-shadow: 0px 1px 3px 1px rgba(0, 0, 0, 0.15);\n",
              "      filter: drop-shadow(0px 1px 2px rgba(0, 0, 0, 0.3));\n",
              "      fill: #FFFFFF;\n",
              "    }\n",
              "  </style>\n",
              "\n",
              "    <script>\n",
              "      const buttonEl =\n",
              "        document.querySelector('#df-df30bc60-a214-4bc5-8d3d-0d82afa4f144 button.colab-df-convert');\n",
              "      buttonEl.style.display =\n",
              "        google.colab.kernel.accessAllowed ? 'block' : 'none';\n",
              "\n",
              "      async function convertToInteractive(key) {\n",
              "        const element = document.querySelector('#df-df30bc60-a214-4bc5-8d3d-0d82afa4f144');\n",
              "        const dataTable =\n",
              "          await google.colab.kernel.invokeFunction('convertToInteractive',\n",
              "                                                    [key], {});\n",
              "        if (!dataTable) return;\n",
              "\n",
              "        const docLinkHtml = 'Like what you see? Visit the ' +\n",
              "          '<a target=\"_blank\" href=https://colab.research.google.com/notebooks/data_table.ipynb>data table notebook</a>'\n",
              "          + ' to learn more about interactive tables.';\n",
              "        element.innerHTML = '';\n",
              "        dataTable['output_type'] = 'display_data';\n",
              "        await google.colab.output.renderOutput(dataTable, element);\n",
              "        const docLink = document.createElement('div');\n",
              "        docLink.innerHTML = docLinkHtml;\n",
              "        element.appendChild(docLink);\n",
              "      }\n",
              "    </script>\n",
              "  </div>\n",
              "\n",
              "\n",
              "<div id=\"df-195087ee-9a89-4f3d-ba01-6c20e18454b0\">\n",
              "  <button class=\"colab-df-quickchart\" onclick=\"quickchart('df-195087ee-9a89-4f3d-ba01-6c20e18454b0')\"\n",
              "            title=\"Suggest charts\"\n",
              "            style=\"display:none;\">\n",
              "\n",
              "<svg xmlns=\"http://www.w3.org/2000/svg\" height=\"24px\"viewBox=\"0 0 24 24\"\n",
              "     width=\"24px\">\n",
              "    <g>\n",
              "        <path d=\"M19 3H5c-1.1 0-2 .9-2 2v14c0 1.1.9 2 2 2h14c1.1 0 2-.9 2-2V5c0-1.1-.9-2-2-2zM9 17H7v-7h2v7zm4 0h-2V7h2v10zm4 0h-2v-4h2v4z\"/>\n",
              "    </g>\n",
              "</svg>\n",
              "  </button>\n",
              "\n",
              "<style>\n",
              "  .colab-df-quickchart {\n",
              "      --bg-color: #E8F0FE;\n",
              "      --fill-color: #1967D2;\n",
              "      --hover-bg-color: #E2EBFA;\n",
              "      --hover-fill-color: #174EA6;\n",
              "      --disabled-fill-color: #AAA;\n",
              "      --disabled-bg-color: #DDD;\n",
              "  }\n",
              "\n",
              "  [theme=dark] .colab-df-quickchart {\n",
              "      --bg-color: #3B4455;\n",
              "      --fill-color: #D2E3FC;\n",
              "      --hover-bg-color: #434B5C;\n",
              "      --hover-fill-color: #FFFFFF;\n",
              "      --disabled-bg-color: #3B4455;\n",
              "      --disabled-fill-color: #666;\n",
              "  }\n",
              "\n",
              "  .colab-df-quickchart {\n",
              "    background-color: var(--bg-color);\n",
              "    border: none;\n",
              "    border-radius: 50%;\n",
              "    cursor: pointer;\n",
              "    display: none;\n",
              "    fill: var(--fill-color);\n",
              "    height: 32px;\n",
              "    padding: 0;\n",
              "    width: 32px;\n",
              "  }\n",
              "\n",
              "  .colab-df-quickchart:hover {\n",
              "    background-color: var(--hover-bg-color);\n",
              "    box-shadow: 0 1px 2px rgba(60, 64, 67, 0.3), 0 1px 3px 1px rgba(60, 64, 67, 0.15);\n",
              "    fill: var(--button-hover-fill-color);\n",
              "  }\n",
              "\n",
              "  .colab-df-quickchart-complete:disabled,\n",
              "  .colab-df-quickchart-complete:disabled:hover {\n",
              "    background-color: var(--disabled-bg-color);\n",
              "    fill: var(--disabled-fill-color);\n",
              "    box-shadow: none;\n",
              "  }\n",
              "\n",
              "  .colab-df-spinner {\n",
              "    border: 2px solid var(--fill-color);\n",
              "    border-color: transparent;\n",
              "    border-bottom-color: var(--fill-color);\n",
              "    animation:\n",
              "      spin 1s steps(1) infinite;\n",
              "  }\n",
              "\n",
              "  @keyframes spin {\n",
              "    0% {\n",
              "      border-color: transparent;\n",
              "      border-bottom-color: var(--fill-color);\n",
              "      border-left-color: var(--fill-color);\n",
              "    }\n",
              "    20% {\n",
              "      border-color: transparent;\n",
              "      border-left-color: var(--fill-color);\n",
              "      border-top-color: var(--fill-color);\n",
              "    }\n",
              "    30% {\n",
              "      border-color: transparent;\n",
              "      border-left-color: var(--fill-color);\n",
              "      border-top-color: var(--fill-color);\n",
              "      border-right-color: var(--fill-color);\n",
              "    }\n",
              "    40% {\n",
              "      border-color: transparent;\n",
              "      border-right-color: var(--fill-color);\n",
              "      border-top-color: var(--fill-color);\n",
              "    }\n",
              "    60% {\n",
              "      border-color: transparent;\n",
              "      border-right-color: var(--fill-color);\n",
              "    }\n",
              "    80% {\n",
              "      border-color: transparent;\n",
              "      border-right-color: var(--fill-color);\n",
              "      border-bottom-color: var(--fill-color);\n",
              "    }\n",
              "    90% {\n",
              "      border-color: transparent;\n",
              "      border-bottom-color: var(--fill-color);\n",
              "    }\n",
              "  }\n",
              "</style>\n",
              "\n",
              "  <script>\n",
              "    async function quickchart(key) {\n",
              "      const quickchartButtonEl =\n",
              "        document.querySelector('#' + key + ' button');\n",
              "      quickchartButtonEl.disabled = true;  // To prevent multiple clicks.\n",
              "      quickchartButtonEl.classList.add('colab-df-spinner');\n",
              "      try {\n",
              "        const charts = await google.colab.kernel.invokeFunction(\n",
              "            'suggestCharts', [key], {});\n",
              "      } catch (error) {\n",
              "        console.error('Error during call to suggestCharts:', error);\n",
              "      }\n",
              "      quickchartButtonEl.classList.remove('colab-df-spinner');\n",
              "      quickchartButtonEl.classList.add('colab-df-quickchart-complete');\n",
              "    }\n",
              "    (() => {\n",
              "      let quickchartButtonEl =\n",
              "        document.querySelector('#df-195087ee-9a89-4f3d-ba01-6c20e18454b0 button');\n",
              "      quickchartButtonEl.style.display =\n",
              "        google.colab.kernel.accessAllowed ? 'block' : 'none';\n",
              "    })();\n",
              "  </script>\n",
              "</div>\n",
              "\n",
              "    </div>\n",
              "  </div>\n"
            ],
            "application/vnd.google.colaboratory.intrinsic+json": {
              "type": "dataframe",
              "variable_name": "train_y_df",
              "summary": "{\n  \"name\": \"train_y_df\",\n  \"rows\": 1213,\n  \"fields\": [\n    {\n      \"column\": \"participant_id\",\n      \"properties\": {\n        \"dtype\": \"string\",\n        \"num_unique_values\": 1213,\n        \"samples\": [\n          \"toSHk1Zninz2\",\n          \"auVpv0cuxKVi\",\n          \"8jjvOdQ5WL1z\"\n        ],\n        \"semantic_type\": \"\",\n        \"description\": \"\"\n      }\n    },\n    {\n      \"column\": \"ADHD_Outcome\",\n      \"properties\": {\n        \"dtype\": \"number\",\n        \"std\": 0,\n        \"min\": 0,\n        \"max\": 1,\n        \"num_unique_values\": 2,\n        \"samples\": [\n          0,\n          1\n        ],\n        \"semantic_type\": \"\",\n        \"description\": \"\"\n      }\n    },\n    {\n      \"column\": \"Sex_F\",\n      \"properties\": {\n        \"dtype\": \"number\",\n        \"std\": 0,\n        \"min\": 0,\n        \"max\": 1,\n        \"num_unique_values\": 2,\n        \"samples\": [\n          1,\n          0\n        ],\n        \"semantic_type\": \"\",\n        \"description\": \"\"\n      }\n    }\n  ]\n}"
            }
          },
          "metadata": {},
          "execution_count": 14
        }
      ],
      "source": [
        "train_y_df.head()"
      ]
    },
    {
      "cell_type": "code",
      "execution_count": 15,
      "metadata": {
        "id": "Uetd7OJQeq9y"
      },
      "outputs": [],
      "source": [
        "class Model(nn.Module):\n",
        "    def __init__(self, input_dim, layer_dims, dropout=0.5, output_dim=4):\n",
        "        super(Model, self).__init__()\n",
        "        layers = []\n",
        "        prev_dim = input_dim\n",
        "        for dim in layer_dims:\n",
        "            layers.append(nn.Linear(prev_dim, dim))\n",
        "            layers.append(nn.ReLU())\n",
        "            if dropout > 0:\n",
        "                layers.append(nn.Dropout(dropout))\n",
        "            prev_dim = dim\n",
        "        layers.append(nn.Linear(prev_dim, output_dim))\n",
        "        self.layers = nn.Sequential(*layers)\n",
        "\n",
        "    def forward(self, x):\n",
        "        return self.layers(x)"
      ]
    },
    {
      "cell_type": "code",
      "execution_count": 16,
      "metadata": {
        "colab": {
          "base_uri": "https://localhost:8080/"
        },
        "id": "YQKVAFVYeq9z",
        "outputId": "caebf16e-9681-4219-9790-882f33627067"
      },
      "outputs": [
        {
          "output_type": "stream",
          "name": "stdout",
          "text": [
            "----------------------------------------------------------------\n",
            "        Layer (type)               Output Shape         Param #\n",
            "================================================================\n",
            "            Linear-1                   [-1, 64]           6,464\n",
            "              ReLU-2                   [-1, 64]               0\n",
            "           Dropout-3                   [-1, 64]               0\n",
            "            Linear-4                   [-1, 32]           2,080\n",
            "              ReLU-5                   [-1, 32]               0\n",
            "           Dropout-6                   [-1, 32]               0\n",
            "            Linear-7                    [-1, 4]             132\n",
            "================================================================\n",
            "Total params: 8,676\n",
            "Trainable params: 8,676\n",
            "Non-trainable params: 0\n",
            "----------------------------------------------------------------\n",
            "Input size (MB): 0.00\n",
            "Forward/backward pass size (MB): 0.00\n",
            "Params size (MB): 0.03\n",
            "Estimated Total Size (MB): 0.04\n",
            "----------------------------------------------------------------\n"
          ]
        }
      ],
      "source": [
        "temp_model = Model(100, [64, 32], dropout=0.3, output_dim=4).to(device)\n",
        "summary(temp_model, (100,))"
      ]
    },
    {
      "cell_type": "code",
      "execution_count": 17,
      "metadata": {
        "id": "6ATgAZZqeq9z"
      },
      "outputs": [],
      "source": [
        "X = np.array(train_X_df.values, dtype=np.float32)"
      ]
    },
    {
      "cell_type": "code",
      "execution_count": 18,
      "metadata": {
        "colab": {
          "base_uri": "https://localhost:8080/"
        },
        "id": "hDTb0pRAeq90",
        "outputId": "c7d6c676-acfc-42af-b5fd-b8790ab19c31"
      },
      "outputs": [
        {
          "output_type": "execute_result",
          "data": {
            "text/plain": [
              "(1213, 19900)"
            ]
          },
          "metadata": {},
          "execution_count": 18
        }
      ],
      "source": [
        "X.shape"
      ]
    },
    {
      "cell_type": "code",
      "execution_count": 19,
      "metadata": {
        "id": "lve1uz7geq90"
      },
      "outputs": [],
      "source": [
        "y_two_vars = train_y_df.values\n",
        "y = np.array(y_two_vars[:, 0] * 2 + y_two_vars[:, 1], dtype=np.uint8)"
      ]
    },
    {
      "cell_type": "code",
      "execution_count": 20,
      "metadata": {
        "colab": {
          "base_uri": "https://localhost:8080/"
        },
        "id": "NPXEuAtReq90",
        "outputId": "8c985ff5-4776-4829-bb12-49895f3f3d45"
      },
      "outputs": [
        {
          "output_type": "execute_result",
          "data": {
            "text/plain": [
              "(array([2, 3, 3], dtype=uint8),\n",
              " array([[1, 0],\n",
              "        [1, 1],\n",
              "        [1, 1]]))"
            ]
          },
          "metadata": {},
          "execution_count": 20
        }
      ],
      "source": [
        "y[:3], y_two_vars[:3]"
      ]
    },
    {
      "cell_type": "code",
      "execution_count": 21,
      "metadata": {
        "id": "uIqdEmhxeq91"
      },
      "outputs": [],
      "source": [
        "layer_dims_list = [\n",
        "    [256, 128, 64, 32],\n",
        "    [256, 128, 128, 64, 32],\n",
        "    [256, 128, 128, 64, 64, 32],\n",
        "    [256, 128, 128, 64, 64, 32, 32, 16],\n",
        "    [512, 256, 128, 128, 64, 64, 32, 32, 16],\n",
        "]\n",
        "dropouts = [0.0, .1, .2, .3, .4, .5]"
      ]
    },
    {
      "cell_type": "code",
      "execution_count": 22,
      "metadata": {
        "id": "USUt5QOAeq91"
      },
      "outputs": [],
      "source": [
        "criterion = nn.CrossEntropyLoss()"
      ]
    },
    {
      "cell_type": "code",
      "execution_count": 23,
      "metadata": {
        "id": "kMedYN-3l-xz"
      },
      "outputs": [],
      "source": [
        "seed = 42  # Choose any fixed number\n",
        "random.seed(seed)\n",
        "np.random.seed(seed)\n",
        "torch.manual_seed(seed)\n",
        "torch.cuda.manual_seed_all(seed)  # If using CUDA"
      ]
    },
    {
      "cell_type": "code",
      "execution_count": 24,
      "metadata": {
        "id": "iEYp9HpWeq91"
      },
      "outputs": [],
      "source": [
        "kf = KFold(n_splits=5, shuffle=True, random_state=42)"
      ]
    },
    {
      "cell_type": "code",
      "execution_count": 25,
      "metadata": {
        "colab": {
          "base_uri": "https://localhost:8080/"
        },
        "id": "UPx1weRgeq92",
        "outputId": "241e2035-d5e7-4eef-c311-6f5de4f01094"
      },
      "outputs": [
        {
          "output_type": "stream",
          "name": "stdout",
          "text": [
            "complexity: [256, 128, 64, 32] dropout rate: 0.0\n"
          ]
        },
        {
          "output_type": "stream",
          "name": "stderr",
          "text": [
            "100%|██████████| 200/200 [00:18<00:00, 10.95it/s]\n",
            "100%|██████████| 200/200 [00:17<00:00, 11.53it/s]\n",
            "100%|██████████| 200/200 [00:17<00:00, 11.16it/s]\n",
            "100%|██████████| 200/200 [00:18<00:00, 11.07it/s]\n",
            "100%|██████████| 200/200 [00:18<00:00, 10.78it/s]\n"
          ]
        },
        {
          "output_type": "stream",
          "name": "stdout",
          "text": [
            "[0.46378621378621376, 0.6666709989342622, 0.667961715467218, 0.5467344249952946, 0.6568572321149642]\n",
            "complexity: [256, 128, 64, 32] dropout rate: 0.1\n"
          ]
        },
        {
          "output_type": "stream",
          "name": "stderr",
          "text": [
            "100%|██████████| 200/200 [00:18<00:00, 10.67it/s]\n",
            "100%|██████████| 200/200 [00:17<00:00, 11.13it/s]\n",
            "100%|██████████| 200/200 [00:17<00:00, 11.18it/s]\n",
            "100%|██████████| 200/200 [00:19<00:00, 10.51it/s]\n",
            "100%|██████████| 200/200 [00:17<00:00, 11.12it/s]\n"
          ]
        },
        {
          "output_type": "stream",
          "name": "stdout",
          "text": [
            "[0.46858288770053474, 0.43018867924528303, 0.6407315340909091, 0.5421909562316423, 0.6145672441706831]\n",
            "complexity: [256, 128, 64, 32] dropout rate: 0.2\n"
          ]
        },
        {
          "output_type": "stream",
          "name": "stderr",
          "text": [
            "100%|██████████| 200/200 [00:18<00:00, 10.79it/s]\n",
            "100%|██████████| 200/200 [00:17<00:00, 11.17it/s]\n",
            "100%|██████████| 200/200 [00:18<00:00, 11.11it/s]\n",
            "100%|██████████| 200/200 [00:18<00:00, 10.80it/s]\n",
            "100%|██████████| 200/200 [00:17<00:00, 11.21it/s]\n"
          ]
        },
        {
          "output_type": "stream",
          "name": "stdout",
          "text": [
            "[0.49778621125869704, 0.4552430695058256, 0.7383192623115847, 0.42292490118577075, 0.4085106382978723]\n",
            "complexity: [256, 128, 64, 32] dropout rate: 0.3\n"
          ]
        },
        {
          "output_type": "stream",
          "name": "stderr",
          "text": [
            "100%|██████████| 200/200 [00:19<00:00, 10.38it/s]\n",
            "100%|██████████| 200/200 [00:17<00:00, 11.34it/s]\n",
            "100%|██████████| 200/200 [00:17<00:00, 11.23it/s]\n",
            "100%|██████████| 200/200 [00:18<00:00, 10.79it/s]\n",
            "100%|██████████| 200/200 [00:17<00:00, 11.18it/s]\n"
          ]
        },
        {
          "output_type": "stream",
          "name": "stdout",
          "text": [
            "[0.4358610914245216, 0.43018867924528303, 0.43761996161228406, 0.6162870945479642, 0.47919216646266827]\n",
            "complexity: [256, 128, 64, 32] dropout rate: 0.4\n"
          ]
        },
        {
          "output_type": "stream",
          "name": "stderr",
          "text": [
            "100%|██████████| 200/200 [00:18<00:00, 10.89it/s]\n",
            "100%|██████████| 200/200 [00:17<00:00, 11.20it/s]\n",
            "100%|██████████| 200/200 [00:17<00:00, 11.33it/s]\n",
            "100%|██████████| 200/200 [00:18<00:00, 10.94it/s]\n",
            "100%|██████████| 200/200 [00:17<00:00, 11.15it/s]\n"
          ]
        },
        {
          "output_type": "stream",
          "name": "stdout",
          "text": [
            "[0.5834160691303548, 0.43018867924528303, 0.43761996161228406, 0.4720901340873067, 0.41922290388548056]\n",
            "complexity: [256, 128, 64, 32] dropout rate: 0.5\n"
          ]
        },
        {
          "output_type": "stream",
          "name": "stderr",
          "text": [
            "100%|██████████| 200/200 [00:17<00:00, 11.11it/s]\n",
            "100%|██████████| 200/200 [00:14<00:00, 13.94it/s]\n",
            "100%|██████████| 200/200 [00:17<00:00, 11.43it/s]\n",
            "100%|██████████| 200/200 [00:17<00:00, 11.15it/s]\n",
            "100%|██████████| 200/200 [00:19<00:00, 10.50it/s]\n"
          ]
        },
        {
          "output_type": "stream",
          "name": "stdout",
          "text": [
            "[0.4117647058823529, 0.43018867924528303, 0.43761996161228406, 0.41030927835051545, 0.5681114551083591]\n",
            "complexity: [256, 128, 128, 64, 32] dropout rate: 0.0\n"
          ]
        },
        {
          "output_type": "stream",
          "name": "stderr",
          "text": [
            "100%|██████████| 200/200 [00:17<00:00, 11.23it/s]\n",
            "100%|██████████| 200/200 [00:16<00:00, 11.87it/s]\n",
            "100%|██████████| 200/200 [00:17<00:00, 11.27it/s]\n",
            "100%|██████████| 200/200 [00:17<00:00, 11.30it/s]\n",
            "100%|██████████| 200/200 [00:18<00:00, 10.86it/s]\n"
          ]
        },
        {
          "output_type": "stream",
          "name": "stdout",
          "text": [
            "[0.6474789915966386, 0.43018867924528303, 0.7029601029601029, 0.6052947023739914, 0.6307300509337861]\n",
            "complexity: [256, 128, 128, 64, 32] dropout rate: 0.1\n"
          ]
        },
        {
          "output_type": "stream",
          "name": "stderr",
          "text": [
            "100%|██████████| 200/200 [00:17<00:00, 11.21it/s]\n",
            "100%|██████████| 200/200 [00:18<00:00, 10.94it/s]\n",
            "100%|██████████| 200/200 [00:17<00:00, 11.31it/s]\n",
            "100%|██████████| 200/200 [00:17<00:00, 11.28it/s]\n",
            "100%|██████████| 200/200 [00:18<00:00, 10.85it/s]\n"
          ]
        },
        {
          "output_type": "stream",
          "name": "stdout",
          "text": [
            "[0.6800573888091822, 0.7134256734649362, 0.7341716857502151, 0.42292490118577075, 0.4785238959467634]\n",
            "complexity: [256, 128, 128, 64, 32] dropout rate: 0.2\n"
          ]
        },
        {
          "output_type": "stream",
          "name": "stderr",
          "text": [
            "100%|██████████| 200/200 [00:17<00:00, 11.28it/s]\n",
            "100%|██████████| 200/200 [00:18<00:00, 11.03it/s]\n",
            "100%|██████████| 200/200 [00:17<00:00, 11.25it/s]\n",
            "100%|██████████| 200/200 [00:18<00:00, 10.80it/s]\n",
            "100%|██████████| 200/200 [00:18<00:00, 10.88it/s]\n"
          ]
        },
        {
          "output_type": "stream",
          "name": "stdout",
          "text": [
            "[0.6922525107604017, 0.43018867924528303, 0.5383784974664023, 0.42292490118577075, 0.42105263157894735]\n",
            "complexity: [256, 128, 128, 64, 32] dropout rate: 0.3\n"
          ]
        },
        {
          "output_type": "stream",
          "name": "stderr",
          "text": [
            "100%|██████████| 200/200 [00:17<00:00, 11.32it/s]\n",
            "100%|██████████| 200/200 [00:17<00:00, 11.18it/s]\n",
            "100%|██████████| 200/200 [00:18<00:00, 11.07it/s]\n",
            "100%|██████████| 200/200 [00:17<00:00, 11.34it/s]\n",
            "100%|██████████| 200/200 [00:18<00:00, 10.90it/s]\n"
          ]
        },
        {
          "output_type": "stream",
          "name": "stdout",
          "text": [
            "[0.4117647058823529, 0.43018867924528303, 0.5755102040816327, 0.42292490118577075, 0.4900181488203267]\n",
            "complexity: [256, 128, 128, 64, 32] dropout rate: 0.4\n"
          ]
        },
        {
          "output_type": "stream",
          "name": "stderr",
          "text": [
            "100%|██████████| 200/200 [00:17<00:00, 11.34it/s]\n",
            "100%|██████████| 200/200 [00:18<00:00, 11.10it/s]\n",
            "100%|██████████| 200/200 [00:18<00:00, 11.03it/s]\n",
            "100%|██████████| 200/200 [00:17<00:00, 11.27it/s]\n",
            "100%|██████████| 200/200 [00:18<00:00, 10.90it/s]\n"
          ]
        },
        {
          "output_type": "stream",
          "name": "stdout",
          "text": [
            "[0.4117647058823529, 0.43018867924528303, 0.43761996161228406, 0.42292490118577075, 0.42105263157894735]\n",
            "complexity: [256, 128, 128, 64, 32] dropout rate: 0.5\n"
          ]
        },
        {
          "output_type": "stream",
          "name": "stderr",
          "text": [
            "100%|██████████| 200/200 [00:17<00:00, 11.21it/s]\n",
            "100%|██████████| 200/200 [00:17<00:00, 11.25it/s]\n",
            "100%|██████████| 200/200 [00:18<00:00, 10.58it/s]\n",
            "100%|██████████| 200/200 [00:17<00:00, 11.12it/s]\n",
            "100%|██████████| 200/200 [00:18<00:00, 10.81it/s]\n"
          ]
        },
        {
          "output_type": "stream",
          "name": "stdout",
          "text": [
            "[0.4117647058823529, 0.4408269771176235, 0.43761996161228406, 0.4012738853503185, 0.42105263157894735]\n",
            "complexity: [256, 128, 128, 64, 64, 32] dropout rate: 0.0\n"
          ]
        },
        {
          "output_type": "stream",
          "name": "stderr",
          "text": [
            "100%|██████████| 200/200 [00:17<00:00, 11.28it/s]\n",
            "100%|██████████| 200/200 [00:17<00:00, 11.20it/s]\n",
            "100%|██████████| 200/200 [00:18<00:00, 11.08it/s]\n",
            "100%|██████████| 200/200 [00:17<00:00, 11.21it/s]\n",
            "100%|██████████| 200/200 [00:18<00:00, 10.69it/s]\n"
          ]
        },
        {
          "output_type": "stream",
          "name": "stdout",
          "text": [
            "[0.42395982783357244, 0.43018867924528303, 0.43761996161228406, 0.42292490118577075, 0.5924812030075188]\n",
            "complexity: [256, 128, 128, 64, 64, 32] dropout rate: 0.1\n"
          ]
        },
        {
          "output_type": "stream",
          "name": "stderr",
          "text": [
            "100%|██████████| 200/200 [00:17<00:00, 11.18it/s]\n",
            "100%|██████████| 200/200 [00:18<00:00, 10.98it/s]\n",
            "100%|██████████| 200/200 [00:18<00:00, 10.94it/s]\n",
            "100%|██████████| 200/200 [00:17<00:00, 11.25it/s]\n",
            "100%|██████████| 200/200 [00:18<00:00, 10.76it/s]\n"
          ]
        },
        {
          "output_type": "stream",
          "name": "stdout",
          "text": [
            "[0.6405510441712411, 0.43018867924528303, 0.43761996161228406, 0.42292490118577075, 0.42105263157894735]\n",
            "complexity: [256, 128, 128, 64, 64, 32] dropout rate: 0.2\n"
          ]
        },
        {
          "output_type": "stream",
          "name": "stderr",
          "text": [
            "100%|██████████| 200/200 [00:18<00:00, 10.67it/s]\n",
            "100%|██████████| 200/200 [00:17<00:00, 11.23it/s]\n",
            "100%|██████████| 200/200 [00:18<00:00, 11.05it/s]\n",
            "100%|██████████| 200/200 [00:17<00:00, 11.18it/s]\n",
            "100%|██████████| 200/200 [00:18<00:00, 10.87it/s]\n"
          ]
        },
        {
          "output_type": "stream",
          "name": "stdout",
          "text": [
            "[0.45827633378932964, 0.43018867924528303, 0.47984496124031006, 0.42292490118577075, 0.42105263157894735]\n",
            "complexity: [256, 128, 128, 64, 64, 32] dropout rate: 0.3\n"
          ]
        },
        {
          "output_type": "stream",
          "name": "stderr",
          "text": [
            "100%|██████████| 200/200 [00:18<00:00, 11.11it/s]\n",
            "100%|██████████| 200/200 [00:17<00:00, 11.24it/s]\n",
            "100%|██████████| 200/200 [00:18<00:00, 11.03it/s]\n",
            "100%|██████████| 200/200 [00:17<00:00, 11.34it/s]\n",
            "100%|██████████| 200/200 [00:18<00:00, 10.76it/s]\n"
          ]
        },
        {
          "output_type": "stream",
          "name": "stdout",
          "text": [
            "[0.4117647058823529, 0.43018867924528303, 0.43761996161228406, 0.42292490118577075, 0.42105263157894735]\n",
            "complexity: [256, 128, 128, 64, 64, 32] dropout rate: 0.4\n"
          ]
        },
        {
          "output_type": "stream",
          "name": "stderr",
          "text": [
            "100%|██████████| 200/200 [00:17<00:00, 11.23it/s]\n",
            "100%|██████████| 200/200 [00:18<00:00, 11.03it/s]\n",
            "100%|██████████| 200/200 [00:18<00:00, 11.08it/s]\n",
            "100%|██████████| 200/200 [00:10<00:00, 19.12it/s]\n",
            "100%|██████████| 200/200 [00:18<00:00, 10.80it/s]\n"
          ]
        },
        {
          "output_type": "stream",
          "name": "stdout",
          "text": [
            "[0.4784313725490196, 0.48069372975033353, 0.43761996161228406, 0.42292490118577075, 0.42105263157894735]\n",
            "complexity: [256, 128, 128, 64, 64, 32] dropout rate: 0.5\n"
          ]
        },
        {
          "output_type": "stream",
          "name": "stderr",
          "text": [
            "100%|██████████| 200/200 [00:10<00:00, 19.31it/s]\n",
            "100%|██████████| 200/200 [00:17<00:00, 11.34it/s]\n",
            "100%|██████████| 200/200 [00:10<00:00, 19.39it/s]\n",
            "100%|██████████| 200/200 [00:17<00:00, 11.31it/s]\n",
            "100%|██████████| 200/200 [00:10<00:00, 19.62it/s]\n"
          ]
        },
        {
          "output_type": "stream",
          "name": "stdout",
          "text": [
            "[0.4117647058823529, 0.43018867924528303, 0.43761996161228406, 0.42292490118577075, 0.42105263157894735]\n",
            "complexity: [256, 128, 128, 64, 64, 32, 32, 16] dropout rate: 0.0\n"
          ]
        },
        {
          "output_type": "stream",
          "name": "stderr",
          "text": [
            "100%|██████████| 200/200 [00:18<00:00, 11.06it/s]\n",
            "100%|██████████| 200/200 [00:10<00:00, 19.79it/s]\n",
            "100%|██████████| 200/200 [00:17<00:00, 11.19it/s]\n",
            "100%|██████████| 200/200 [00:10<00:00, 19.45it/s]\n",
            "100%|██████████| 200/200 [00:17<00:00, 11.37it/s]\n"
          ]
        },
        {
          "output_type": "stream",
          "name": "stdout",
          "text": [
            "[0.42381289865343724, 0.43018867924528303, 0.43761996161228406, 0.42292490118577075, 0.4140786749482402]\n",
            "complexity: [256, 128, 128, 64, 64, 32, 32, 16] dropout rate: 0.1\n"
          ]
        },
        {
          "output_type": "stream",
          "name": "stderr",
          "text": [
            "100%|██████████| 200/200 [00:14<00:00, 13.98it/s]\n",
            "100%|██████████| 200/200 [00:17<00:00, 11.27it/s]\n",
            "100%|██████████| 200/200 [00:13<00:00, 14.41it/s]\n",
            "100%|██████████| 200/200 [00:14<00:00, 14.27it/s]\n",
            "100%|██████████| 200/200 [00:17<00:00, 11.40it/s]\n"
          ]
        },
        {
          "output_type": "stream",
          "name": "stdout",
          "text": [
            "[0.4117647058823529, 0.43018867924528303, 0.43761996161228406, 0.42292490118577075, 0.42105263157894735]\n",
            "complexity: [256, 128, 128, 64, 64, 32, 32, 16] dropout rate: 0.2\n"
          ]
        },
        {
          "output_type": "stream",
          "name": "stderr",
          "text": [
            "100%|██████████| 200/200 [00:14<00:00, 13.63it/s]\n",
            "100%|██████████| 200/200 [00:13<00:00, 14.74it/s]\n",
            "100%|██████████| 200/200 [00:18<00:00, 11.00it/s]\n",
            "100%|██████████| 200/200 [00:14<00:00, 13.76it/s]\n",
            "100%|██████████| 200/200 [00:17<00:00, 11.58it/s]\n"
          ]
        },
        {
          "output_type": "stream",
          "name": "stdout",
          "text": [
            "[0.4117647058823529, 0.43018867924528303, 0.43761996161228406, 0.42292490118577075, 0.42105263157894735]\n",
            "complexity: [256, 128, 128, 64, 64, 32, 32, 16] dropout rate: 0.3\n"
          ]
        },
        {
          "output_type": "stream",
          "name": "stderr",
          "text": [
            "100%|██████████| 200/200 [00:14<00:00, 14.15it/s]\n",
            "100%|██████████| 200/200 [00:14<00:00, 13.80it/s]\n",
            "100%|██████████| 200/200 [00:18<00:00, 10.89it/s]\n",
            "100%|██████████| 200/200 [00:11<00:00, 18.06it/s]\n",
            "100%|██████████| 200/200 [00:17<00:00, 11.16it/s]\n"
          ]
        },
        {
          "output_type": "stream",
          "name": "stdout",
          "text": [
            "[0.5950980392156863, 0.43018867924528303, 0.43761996161228406, 0.42292490118577075, 0.42105263157894735]\n",
            "complexity: [256, 128, 128, 64, 64, 32, 32, 16] dropout rate: 0.4\n"
          ]
        },
        {
          "output_type": "stream",
          "name": "stderr",
          "text": [
            "100%|██████████| 200/200 [00:13<00:00, 15.38it/s]\n",
            "100%|██████████| 200/200 [00:18<00:00, 11.11it/s]\n",
            "100%|██████████| 200/200 [00:11<00:00, 17.18it/s]\n",
            "100%|██████████| 200/200 [00:18<00:00, 10.98it/s]\n",
            "100%|██████████| 200/200 [00:11<00:00, 18.15it/s]\n"
          ]
        },
        {
          "output_type": "stream",
          "name": "stdout",
          "text": [
            "[0.4117647058823529, 0.4161735700197239, 0.43761996161228406, 0.42292490118577075, 0.42105263157894735]\n",
            "complexity: [256, 128, 128, 64, 64, 32, 32, 16] dropout rate: 0.5\n"
          ]
        },
        {
          "output_type": "stream",
          "name": "stderr",
          "text": [
            "100%|██████████| 200/200 [00:17<00:00, 11.43it/s]\n",
            "100%|██████████| 200/200 [00:12<00:00, 15.88it/s]\n",
            "100%|██████████| 200/200 [00:17<00:00, 11.47it/s]\n",
            "100%|██████████| 200/200 [00:18<00:00, 11.05it/s]\n",
            "100%|██████████| 200/200 [00:09<00:00, 20.37it/s]\n"
          ]
        },
        {
          "output_type": "stream",
          "name": "stdout",
          "text": [
            "[0.4117647058823529, 0.43018867924528303, 0.38620689655172413, 0.42292490118577075, 0.42105263157894735]\n",
            "complexity: [512, 256, 128, 128, 64, 64, 32, 32, 16] dropout rate: 0.0\n"
          ]
        },
        {
          "output_type": "stream",
          "name": "stderr",
          "text": [
            "100%|██████████| 200/200 [00:20<00:00,  9.98it/s]\n",
            "100%|██████████| 200/200 [00:17<00:00, 11.57it/s]\n",
            "100%|██████████| 200/200 [00:20<00:00,  9.91it/s]\n",
            "100%|██████████| 200/200 [00:16<00:00, 11.86it/s]\n",
            "100%|██████████| 200/200 [00:20<00:00,  9.90it/s]\n"
          ]
        },
        {
          "output_type": "stream",
          "name": "stdout",
          "text": [
            "[0.4117647058823529, 0.43018867924528303, 0.43761996161228406, 0.42292490118577075, 0.5794684731631058]\n",
            "complexity: [512, 256, 128, 128, 64, 64, 32, 32, 16] dropout rate: 0.1\n"
          ]
        },
        {
          "output_type": "stream",
          "name": "stderr",
          "text": [
            "100%|██████████| 200/200 [00:15<00:00, 12.56it/s]\n",
            "100%|██████████| 200/200 [00:20<00:00,  9.77it/s]\n",
            "100%|██████████| 200/200 [00:16<00:00, 12.28it/s]\n",
            "100%|██████████| 200/200 [00:19<00:00, 10.16it/s]\n",
            "100%|██████████| 200/200 [00:20<00:00,  9.78it/s]\n"
          ]
        },
        {
          "output_type": "stream",
          "name": "stdout",
          "text": [
            "[0.4117647058823529, 0.43018867924528303, 0.4305555555555556, 0.42292490118577075, 0.5190145576707726]\n",
            "complexity: [512, 256, 128, 128, 64, 64, 32, 32, 16] dropout rate: 0.2\n"
          ]
        },
        {
          "output_type": "stream",
          "name": "stderr",
          "text": [
            "100%|██████████| 200/200 [00:15<00:00, 12.80it/s]\n",
            "100%|██████████| 200/200 [00:20<00:00,  9.79it/s]\n",
            "100%|██████████| 200/200 [00:16<00:00, 12.29it/s]\n",
            "100%|██████████| 200/200 [00:16<00:00, 11.83it/s]\n",
            "100%|██████████| 200/200 [00:20<00:00,  9.77it/s]\n"
          ]
        },
        {
          "output_type": "stream",
          "name": "stdout",
          "text": [
            "[0.47918043621943157, 0.43018867924528303, 0.43761996161228406, 0.42292490118577075, 0.42105263157894735]\n",
            "complexity: [512, 256, 128, 128, 64, 64, 32, 32, 16] dropout rate: 0.3\n"
          ]
        },
        {
          "output_type": "stream",
          "name": "stderr",
          "text": [
            "100%|██████████| 200/200 [00:16<00:00, 12.39it/s]\n",
            "100%|██████████| 200/200 [00:20<00:00,  9.73it/s]\n",
            "100%|██████████| 200/200 [00:16<00:00, 11.81it/s]\n",
            "100%|██████████| 200/200 [00:20<00:00,  9.71it/s]\n",
            "100%|██████████| 200/200 [00:14<00:00, 13.51it/s]\n"
          ]
        },
        {
          "output_type": "stream",
          "name": "stdout",
          "text": [
            "[0.41140529531568226, 0.6936617331374986, 0.3902439024390244, 0.5969825089771805, 0.41561181434599154]\n",
            "complexity: [512, 256, 128, 128, 64, 64, 32, 32, 16] dropout rate: 0.4\n"
          ]
        },
        {
          "output_type": "stream",
          "name": "stderr",
          "text": [
            "100%|██████████| 200/200 [00:19<00:00, 10.11it/s]\n",
            "100%|██████████| 200/200 [00:18<00:00, 10.78it/s]\n",
            "100%|██████████| 200/200 [00:19<00:00, 10.03it/s]\n",
            "100%|██████████| 200/200 [00:20<00:00,  9.63it/s]\n",
            "100%|██████████| 200/200 [00:16<00:00, 12.17it/s]\n"
          ]
        },
        {
          "output_type": "stream",
          "name": "stdout",
          "text": [
            "[0.4117647058823529, 0.43018867924528303, 0.4129979035639413, 0.5883925270850513, 0.42105263157894735]\n",
            "complexity: [512, 256, 128, 128, 64, 64, 32, 32, 16] dropout rate: 0.5\n"
          ]
        },
        {
          "output_type": "stream",
          "name": "stderr",
          "text": [
            "100%|██████████| 200/200 [00:20<00:00,  9.86it/s]\n",
            "100%|██████████| 200/200 [00:19<00:00, 10.13it/s]\n",
            "100%|██████████| 200/200 [00:17<00:00, 11.52it/s]\n",
            "100%|██████████| 200/200 [00:19<00:00, 10.17it/s]\n",
            "100%|██████████| 200/200 [00:20<00:00,  9.88it/s]"
          ]
        },
        {
          "output_type": "stream",
          "name": "stdout",
          "text": [
            "[0.4117647058823529, 0.43018867924528303, 0.43761996161228406, 0.39072847682119205, 0.42105263157894735]\n"
          ]
        },
        {
          "output_type": "stream",
          "name": "stderr",
          "text": [
            "\n"
          ]
        }
      ],
      "source": [
        "num_epochs = 200\n",
        "\n",
        "results = {\"-\".join(map(str, layer_dims)): {} for layer_dims in layer_dims_list}\n",
        "epoch_history = {\"-\".join(map(str, layer_dims)): {} for layer_dims in layer_dims_list}\n",
        "for layer_dims in layer_dims_list:\n",
        "    for dropout in dropouts:\n",
        "        print(\"complexity:\", layer_dims, \"dropout rate:\", dropout)\n",
        "        f1_scores = []\n",
        "        best_epochs = []\n",
        "\n",
        "        for fold, (train_index, test_index) in enumerate(kf.split(X)):\n",
        "            model = Model(\n",
        "                input_dim=X.shape[1], layer_dims=layer_dims, dropout=dropout, output_dim=4\n",
        "            ).to(device)\n",
        "            X_train, X_test = X[train_index], X[test_index]\n",
        "            y_train, y_test = y[train_index], y[test_index]\n",
        "\n",
        "            optimizer = optim.Adam(model.parameters(), lr=0.001)\n",
        "            best_test_loss = float(\"inf\")\n",
        "            best_f1 = 0.0\n",
        "            best_epoch = 0\n",
        "\n",
        "            for epoch in trange(num_epochs):\n",
        "                model.train()\n",
        "                optimizer.zero_grad()\n",
        "                outputs = model(torch.tensor(X_train).to(device))\n",
        "                loss = criterion(outputs, torch.tensor(y_train).to(device))\n",
        "                loss.backward()\n",
        "                optimizer.step()\n",
        "\n",
        "                model.eval()\n",
        "                with torch.no_grad():\n",
        "                    test_outputs = model(torch.tensor(X_test).to(device))\n",
        "                    test_loss = criterion(test_outputs, torch.tensor(y_test).to(device)).item()\n",
        "                    predicted = torch.argmax(test_outputs.data, 1).cpu()\n",
        "                    f1 = compute_leaderboard_f1_multiclass(y_test, predicted)\n",
        "\n",
        "                if test_loss < best_test_loss:\n",
        "                    best_test_loss = test_loss\n",
        "                    best_f1 = f1\n",
        "                    best_epoch = epoch\n",
        "\n",
        "\n",
        "            f1_scores.append(float(best_f1))\n",
        "            best_epochs.append(best_epoch)\n",
        "        print(f1_scores)\n",
        "        results[\"-\".join(map(str, layer_dims))][dropout] = f1_scores\n",
        "        epoch_history[\"-\".join(map(str, layer_dims))][dropout] = best_epochs"
      ]
    },
    {
      "cell_type": "code",
      "execution_count": 26,
      "metadata": {
        "colab": {
          "base_uri": "https://localhost:8080/"
        },
        "id": "H2ordbIzi25j",
        "outputId": "6c4f36c7-ae58-4b84-c351-280ac40f5dfc"
      },
      "outputs": [
        {
          "output_type": "stream",
          "name": "stdout",
          "text": [
            "{\n",
            "    \"256-128-64-32\": {\n",
            "        \"0.0\": [\n",
            "            0.46378621378621376,\n",
            "            0.6666709989342622,\n",
            "            0.667961715467218,\n",
            "            0.5467344249952946,\n",
            "            0.6568572321149642\n",
            "        ],\n",
            "        \"0.1\": [\n",
            "            0.46858288770053474,\n",
            "            0.43018867924528303,\n",
            "            0.6407315340909091,\n",
            "            0.5421909562316423,\n",
            "            0.6145672441706831\n",
            "        ],\n",
            "        \"0.2\": [\n",
            "            0.49778621125869704,\n",
            "            0.4552430695058256,\n",
            "            0.7383192623115847,\n",
            "            0.42292490118577075,\n",
            "            0.4085106382978723\n",
            "        ],\n",
            "        \"0.3\": [\n",
            "            0.4358610914245216,\n",
            "            0.43018867924528303,\n",
            "            0.43761996161228406,\n",
            "            0.6162870945479642,\n",
            "            0.47919216646266827\n",
            "        ],\n",
            "        \"0.4\": [\n",
            "            0.5834160691303548,\n",
            "            0.43018867924528303,\n",
            "            0.43761996161228406,\n",
            "            0.4720901340873067,\n",
            "            0.41922290388548056\n",
            "        ],\n",
            "        \"0.5\": [\n",
            "            0.4117647058823529,\n",
            "            0.43018867924528303,\n",
            "            0.43761996161228406,\n",
            "            0.41030927835051545,\n",
            "            0.5681114551083591\n",
            "        ]\n",
            "    },\n",
            "    \"256-128-128-64-32\": {\n",
            "        \"0.0\": [\n",
            "            0.6474789915966386,\n",
            "            0.43018867924528303,\n",
            "            0.7029601029601029,\n",
            "            0.6052947023739914,\n",
            "            0.6307300509337861\n",
            "        ],\n",
            "        \"0.1\": [\n",
            "            0.6800573888091822,\n",
            "            0.7134256734649362,\n",
            "            0.7341716857502151,\n",
            "            0.42292490118577075,\n",
            "            0.4785238959467634\n",
            "        ],\n",
            "        \"0.2\": [\n",
            "            0.6922525107604017,\n",
            "            0.43018867924528303,\n",
            "            0.5383784974664023,\n",
            "            0.42292490118577075,\n",
            "            0.42105263157894735\n",
            "        ],\n",
            "        \"0.3\": [\n",
            "            0.4117647058823529,\n",
            "            0.43018867924528303,\n",
            "            0.5755102040816327,\n",
            "            0.42292490118577075,\n",
            "            0.4900181488203267\n",
            "        ],\n",
            "        \"0.4\": [\n",
            "            0.4117647058823529,\n",
            "            0.43018867924528303,\n",
            "            0.43761996161228406,\n",
            "            0.42292490118577075,\n",
            "            0.42105263157894735\n",
            "        ],\n",
            "        \"0.5\": [\n",
            "            0.4117647058823529,\n",
            "            0.4408269771176235,\n",
            "            0.43761996161228406,\n",
            "            0.4012738853503185,\n",
            "            0.42105263157894735\n",
            "        ]\n",
            "    },\n",
            "    \"256-128-128-64-64-32\": {\n",
            "        \"0.0\": [\n",
            "            0.42395982783357244,\n",
            "            0.43018867924528303,\n",
            "            0.43761996161228406,\n",
            "            0.42292490118577075,\n",
            "            0.5924812030075188\n",
            "        ],\n",
            "        \"0.1\": [\n",
            "            0.6405510441712411,\n",
            "            0.43018867924528303,\n",
            "            0.43761996161228406,\n",
            "            0.42292490118577075,\n",
            "            0.42105263157894735\n",
            "        ],\n",
            "        \"0.2\": [\n",
            "            0.45827633378932964,\n",
            "            0.43018867924528303,\n",
            "            0.47984496124031006,\n",
            "            0.42292490118577075,\n",
            "            0.42105263157894735\n",
            "        ],\n",
            "        \"0.3\": [\n",
            "            0.4117647058823529,\n",
            "            0.43018867924528303,\n",
            "            0.43761996161228406,\n",
            "            0.42292490118577075,\n",
            "            0.42105263157894735\n",
            "        ],\n",
            "        \"0.4\": [\n",
            "            0.4784313725490196,\n",
            "            0.48069372975033353,\n",
            "            0.43761996161228406,\n",
            "            0.42292490118577075,\n",
            "            0.42105263157894735\n",
            "        ],\n",
            "        \"0.5\": [\n",
            "            0.4117647058823529,\n",
            "            0.43018867924528303,\n",
            "            0.43761996161228406,\n",
            "            0.42292490118577075,\n",
            "            0.42105263157894735\n",
            "        ]\n",
            "    },\n",
            "    \"256-128-128-64-64-32-32-16\": {\n",
            "        \"0.0\": [\n",
            "            0.42381289865343724,\n",
            "            0.43018867924528303,\n",
            "            0.43761996161228406,\n",
            "            0.42292490118577075,\n",
            "            0.4140786749482402\n",
            "        ],\n",
            "        \"0.1\": [\n",
            "            0.4117647058823529,\n",
            "            0.43018867924528303,\n",
            "            0.43761996161228406,\n",
            "            0.42292490118577075,\n",
            "            0.42105263157894735\n",
            "        ],\n",
            "        \"0.2\": [\n",
            "            0.4117647058823529,\n",
            "            0.43018867924528303,\n",
            "            0.43761996161228406,\n",
            "            0.42292490118577075,\n",
            "            0.42105263157894735\n",
            "        ],\n",
            "        \"0.3\": [\n",
            "            0.5950980392156863,\n",
            "            0.43018867924528303,\n",
            "            0.43761996161228406,\n",
            "            0.42292490118577075,\n",
            "            0.42105263157894735\n",
            "        ],\n",
            "        \"0.4\": [\n",
            "            0.4117647058823529,\n",
            "            0.4161735700197239,\n",
            "            0.43761996161228406,\n",
            "            0.42292490118577075,\n",
            "            0.42105263157894735\n",
            "        ],\n",
            "        \"0.5\": [\n",
            "            0.4117647058823529,\n",
            "            0.43018867924528303,\n",
            "            0.38620689655172413,\n",
            "            0.42292490118577075,\n",
            "            0.42105263157894735\n",
            "        ]\n",
            "    },\n",
            "    \"512-256-128-128-64-64-32-32-16\": {\n",
            "        \"0.0\": [\n",
            "            0.4117647058823529,\n",
            "            0.43018867924528303,\n",
            "            0.43761996161228406,\n",
            "            0.42292490118577075,\n",
            "            0.5794684731631058\n",
            "        ],\n",
            "        \"0.1\": [\n",
            "            0.4117647058823529,\n",
            "            0.43018867924528303,\n",
            "            0.4305555555555556,\n",
            "            0.42292490118577075,\n",
            "            0.5190145576707726\n",
            "        ],\n",
            "        \"0.2\": [\n",
            "            0.47918043621943157,\n",
            "            0.43018867924528303,\n",
            "            0.43761996161228406,\n",
            "            0.42292490118577075,\n",
            "            0.42105263157894735\n",
            "        ],\n",
            "        \"0.3\": [\n",
            "            0.41140529531568226,\n",
            "            0.6936617331374986,\n",
            "            0.3902439024390244,\n",
            "            0.5969825089771805,\n",
            "            0.41561181434599154\n",
            "        ],\n",
            "        \"0.4\": [\n",
            "            0.4117647058823529,\n",
            "            0.43018867924528303,\n",
            "            0.4129979035639413,\n",
            "            0.5883925270850513,\n",
            "            0.42105263157894735\n",
            "        ],\n",
            "        \"0.5\": [\n",
            "            0.4117647058823529,\n",
            "            0.43018867924528303,\n",
            "            0.43761996161228406,\n",
            "            0.39072847682119205,\n",
            "            0.42105263157894735\n",
            "        ]\n",
            "    }\n",
            "}\n"
          ]
        }
      ],
      "source": [
        "results_json = json.dumps(results, indent=4)\n",
        "print(results_json)"
      ]
    },
    {
      "cell_type": "code",
      "execution_count": 27,
      "metadata": {
        "id": "jSz0JayUeq92"
      },
      "outputs": [],
      "source": [
        "full_results = {}\n",
        "summary_results = {}\n",
        "final_epoch_history = {}\n",
        "\n",
        "for layer_dims in results.keys():\n",
        "    for dropout in results[layer_dims].keys():\n",
        "        full_results[layer_dims+'-'+str(dropout)] = results[layer_dims][dropout]\n",
        "        summary_results[layer_dims+'-'+str(dropout)] = float(np.mean(results[layer_dims][dropout]))\n",
        "        final_epoch_history[layer_dims+'-'+str(dropout)] = epoch_history[layer_dims][dropout]\n",
        "\n",
        "summary_results = dict(sorted(summary_results.items(), key=lambda item: item[1], reverse=True))\n",
        "keys = list(summary_results.keys())\n",
        "final_epoch_history = dict(sorted(final_epoch_history.items(), key=lambda item: keys.index(item[0]), reverse=False))\n",
        "\n",
        "\n",
        "with open(\"full_results.json\", \"w\") as f:\n",
        "    json.dump(results, f, indent=4)\n",
        "\n",
        "\n",
        "with open(\"summary_results.json\", \"w\") as f:\n",
        "    json.dump(summary_results, f, indent=4)\n",
        "\n",
        "\n",
        "with open(\"epoch_history.json\", \"w\") as f:\n",
        "    json.dump(final_epoch_history, f, indent=4)"
      ]
    },
    {
      "cell_type": "code",
      "execution_count": 28,
      "metadata": {
        "id": "TKo3upFVeq94"
      },
      "outputs": [],
      "source": [
        "best_layer_dims, best_dropout, n_epochs = [256,128,128,64,32], 0.1, 25"
      ]
    },
    {
      "cell_type": "code",
      "execution_count": 29,
      "metadata": {
        "colab": {
          "base_uri": "https://localhost:8080/"
        },
        "id": "JgMhqUwzeq94",
        "outputId": "cad0b890-56f1-4f51-d66b-a7b23057b4d8"
      },
      "outputs": [
        {
          "output_type": "stream",
          "name": "stderr",
          "text": [
            "100%|██████████| 25/25 [00:11<00:00,  2.09it/s]\n"
          ]
        }
      ],
      "source": [
        "model = Model(\n",
        "    input_dim=X.shape[1], layer_dims=best_layer_dims, dropout=best_dropout, output_dim=4\n",
        ")\n",
        "optimizer = optim.Adam(model.parameters(), lr=0.001)\n",
        "\n",
        "model.train()\n",
        "for epoch in trange(n_epochs):\n",
        "    optimizer.zero_grad()\n",
        "    outputs = model(torch.tensor(X))\n",
        "    loss = criterion(outputs, torch.tensor(y))\n",
        "    loss.backward()\n",
        "    optimizer.step()"
      ]
    },
    {
      "cell_type": "code",
      "execution_count": 30,
      "metadata": {
        "id": "cHBnTrs9eq95"
      },
      "outputs": [],
      "source": [
        "torch.save(model.state_dict(), \"256-128-128-64-32-0.1.pth\")"
      ]
    },
    {
      "cell_type": "code",
      "execution_count": 31,
      "metadata": {
        "colab": {
          "base_uri": "https://localhost:8080/"
        },
        "id": "EORvZZ6Ieq95",
        "outputId": "8a54c1be-28aa-4a4c-ed5a-557b8764eea1"
      },
      "outputs": [
        {
          "output_type": "stream",
          "name": "stdout",
          "text": [
            "0.42492138364779874\n"
          ]
        }
      ],
      "source": [
        "model.eval()\n",
        "with torch.no_grad():\n",
        "    yhat = model(torch.tensor(X))\n",
        "predicted = torch.argmax(yhat, 1)\n",
        "f1 = compute_leaderboard_f1_multiclass(y, predicted)\n",
        "print(f1)"
      ]
    },
    {
      "cell_type": "code",
      "source": [],
      "metadata": {
        "id": "Pr7aQu75-gEL"
      },
      "execution_count": null,
      "outputs": []
    }
  ],
  "metadata": {
    "accelerator": "GPU",
    "colab": {
      "gpuType": "T4",
      "provenance": []
    },
    "kernelspec": {
      "display_name": "Python 3",
      "name": "python3"
    },
    "language_info": {
      "codemirror_mode": {
        "name": "ipython",
        "version": 3
      },
      "file_extension": ".py",
      "mimetype": "text/x-python",
      "name": "python",
      "nbconvert_exporter": "python",
      "pygments_lexer": "ipython3",
      "version": "3.9.6"
    }
  },
  "nbformat": 4,
  "nbformat_minor": 0
}